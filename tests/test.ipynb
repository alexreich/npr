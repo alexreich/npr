{
 "cells": [
  {
   "cell_type": "code",
   "execution_count": 1,
   "metadata": {
    "collapsed": false
   },
   "outputs": [],
   "source": [
    "from unittest import TestCase\n",
    "import random\n",
    "import importlib.util\n",
    "spec = importlib.util.spec_from_file_location(\"npr\", \"../npr/__init__.py\")\n",
    "npr = importlib.util.module_from_spec(spec)\n",
    "spec.loader.exec_module(npr)"
   ]
  },
  {
   "cell_type": "code",
   "execution_count": 3,
   "metadata": {
    "collapsed": false
   },
   "outputs": [
    {
     "name": "stdout",
     "output_type": "stream",
     "text": [
      "Go to https://npr.org/device login and enter:\n",
      "XBQFFT\n",
      "No token.  npr.login() will fetch it for you.\n",
      "User logged in and stored locally\n"
     ]
    }
   ],
   "source": [
    "npr.login()"
   ]
  },
  {
   "cell_type": "code",
   "execution_count": 5,
   "metadata": {
    "collapsed": false
   },
   "outputs": [
    {
     "data": {
      "text/plain": [
       "'Craft Hard Cider Is On A Roll. How Ya Like Them Apples?'"
      ]
     },
     "execution_count": 5,
     "metadata": {},
     "output_type": "execute_result"
    }
   ],
   "source": [
    "story = npr.Read(565664321)\n",
    "story.title"
   ]
  },
  {
   "cell_type": "code",
   "execution_count": 6,
   "metadata": {
    "collapsed": false
   },
   "outputs": [
    {
     "data": {
      "text/plain": [
       "\"The Hidden Brain helps curious people understand the world – and themselves. Using science and storytelling, Hidden Brain's host Shankar Vedantam reveals the unconscious patterns that drive human behavior, the biases that shape our choices, and the triggers that direct the course of our relationships.\""
      ]
     },
     "execution_count": 6,
     "metadata": {},
     "output_type": "execute_result"
    }
   ],
   "source": [
    "query = npr.Search('hidden')\n",
    "query.response['items'][0]['attributes']['description']"
   ]
  },
  {
   "cell_type": "code",
   "execution_count": 7,
   "metadata": {
    "collapsed": false
   },
   "outputs": [
    {
     "name": "stdout",
     "output_type": "stream",
     "text": [
      "Demian .response['attributes']['firstName']\n"
     ]
    }
   ],
   "source": [
    "u = npr.User()\n",
    "u.find('Demian')"
   ]
  },
  {
   "cell_type": "code",
   "execution_count": 4,
   "metadata": {
    "collapsed": false
   },
   "outputs": [
    {
     "data": {
      "text/plain": [
       "'Passenger Train Derails, Dangles Over Washington Highway'"
      ]
     },
     "execution_count": 4,
     "metadata": {},
     "output_type": "execute_result"
    }
   ],
   "source": [
    "player = npr.One()\n",
    "player.skip()\n",
    "player.skip()\n",
    "player.title"
   ]
  },
  {
   "cell_type": "code",
   "execution_count": 8,
   "metadata": {
    "collapsed": false
   },
   "outputs": [
    {
     "data": {
      "text/plain": [
       "{'assets': {...},\n",
       " 'live': 'https://playerservices.streamtheworld.com/api/livestream-redirect/KUCVFM.mp3',\n",
       " 'response': {'attributes': {'brand': {'band': 'FM',\n",
       "    'call': 'KUCV',\n",
       "    'frequency': '91.1',\n",
       "    'marketCity': 'Lincoln',\n",
       "    'marketState': 'NE',\n",
       "    'name': \"NET - Nebraska's NPR Station\",\n",
       "    'tagline': ''},\n",
       "   'eligibility': {'format': None,\n",
       "    'musicOnly': False,\n",
       "    'nprOne': True,\n",
       "    'status': '1'},\n",
       "   'guid': '4fcf700f12294fd7b21cc8123ddf4131',\n",
       "   'network': {'currentOrgId': '204',\n",
       "    'inheritingFrom': '203',\n",
       "    'name': \"NET - Nebraska's NPR Station\",\n",
       "    'tier1': {'id': '203',\n",
       "     'name': 'Nebraska Public Radio Network',\n",
       "     'status': '10',\n",
       "     'tier2': [{'id': '204',\n",
       "       'name': 'KUCV-FM',\n",
       "       'tier3': [{'id': '205', 'name': 'KCNE-FM', 'usesInheritance': True},\n",
       "        {'id': '206', 'name': 'KHNE-FM', 'usesInheritance': True},\n",
       "        {'id': '207', 'name': 'KLNE-FM', 'usesInheritance': True},\n",
       "        {'id': '208', 'name': 'KMNE-FM', 'usesInheritance': True},\n",
       "        {'id': '209', 'name': 'KPNE-FM', 'usesInheritance': True},\n",
       "        {'id': '210', 'name': 'KRNE-FM', 'usesInheritance': True},\n",
       "        {'id': '211', 'name': 'KTNE-FM', 'usesInheritance': True},\n",
       "        {'id': '212', 'name': 'KXNE-FM', 'usesInheritance': True}],\n",
       "       'usesInheritance': True}],\n",
       "     'usesInheritance': False},\n",
       "    'usesInheritance': True},\n",
       "   'newscast': {'id': '203', 'recency': 120},\n",
       "   'orgId': '204'},\n",
       "  'errors': [],\n",
       "  'href': 'https://api.npr.org/stationfinder/v3/stations/204',\n",
       "  'items': [],\n",
       "  'links': {'brand': [{'content-type': 'text/html',\n",
       "     'href': 'http://netnebraska.org/basic-page/radio/radio',\n",
       "     'rel': 'homepage'},\n",
       "    {'content-type': 'image/png',\n",
       "     'href': 'https://media.npr.org/images/stations/nprone_logos/net.png',\n",
       "     'rel': 'logo'},\n",
       "    {'content-type': 'image/gif',\n",
       "     'href': 'https://media.npr.org/images/stations/logos/net.gif',\n",
       "     'rel': 'small-logo'},\n",
       "    {'content-type': 'text/html',\n",
       "     'href': 'http://www.facebook.com/pages/NET-Radio/58056117013',\n",
       "     'rel': 'facebook'},\n",
       "    {'content-type': 'text/html',\n",
       "     'href': 'https://twitter.com/netnewsnebraska',\n",
       "     'rel': 'twitter'}],\n",
       "   'donation': [{'guid': '279bfa90862c495d929f8e4e9349d86b',\n",
       "     'href': 'https://netnebraska.org/donate',\n",
       "     'title': 'Support NET Radio',\n",
       "     'typeId': '4',\n",
       "     'typeName': 'Pledge Page'}],\n",
       "   'podcasts': [{'guid': '24603ced43144d75857ce00b9e3f7eb1',\n",
       "     'href': 'https://feeds.feedburner.com/news_features',\n",
       "     'title': 'Nebraska News',\n",
       "     'typeId': '9',\n",
       "     'typeName': 'Podcast'},\n",
       "    {'guid': '0bcfbe2e515349e9b2914b56a0209e4a',\n",
       "     'href': 'https://feeds.feedburner.com/all_about_books',\n",
       "     'title': 'All About Books',\n",
       "     'typeId': '9',\n",
       "     'typeName': 'Podcast'},\n",
       "    {'guid': 'e556932ff87547a8af5104d73f5b40df',\n",
       "     'href': 'https://plainstorypodcast.org/rss/',\n",
       "     'title': 'The PlainStory',\n",
       "     'typeId': '9',\n",
       "     'typeName': 'Podcast'},\n",
       "    {'guid': '2c54907f34044b1a94fd8ef52450a42d',\n",
       "     'href': 'https://feeds.feedburner.com/humanities_desk',\n",
       "     'title': 'Humanities Desk',\n",
       "     'typeId': '9',\n",
       "     'typeName': 'Podcast'},\n",
       "    {'guid': '8915431180da496ca2d747a8bc8f18cc',\n",
       "     'href': 'https://feeds.feedburner.com/big_red',\n",
       "     'title': 'Big Red Wrap-Up',\n",
       "     'typeId': '9',\n",
       "     'typeName': 'Podcast'},\n",
       "    {'guid': '3b3f87986e5d416cad6539ea4df4e3ec',\n",
       "     'href': 'https://feeds.feedburner.com/friday_live_extra',\n",
       "     'title': 'Friday Live Extra',\n",
       "     'typeId': '9',\n",
       "     'typeName': 'Podcast'},\n",
       "    {'guid': 'ff704a06d07e4ee4bf2e3ad7b0fb3887',\n",
       "     'href': 'https://feeds.feedburner.com/friday_live',\n",
       "     'title': 'Friday Live',\n",
       "     'typeId': '9',\n",
       "     'typeName': 'Podcast'}],\n",
       "   'streams': [{'guid': '20548ce525d44101940a58608eae5a65',\n",
       "     'href': 'https://playerservices.streamtheworld.com/api/livestream-redirect/KUCVHD2.mp3',\n",
       "     'isPrimaryStream': False,\n",
       "     'title': 'NET Radio HD2',\n",
       "     'typeId': '10',\n",
       "     'typeName': 'Audio MP3 Stream'},\n",
       "    {'guid': 'fd7bbfba94eb4a688032103af7d65eac',\n",
       "     'href': 'https://playerservices.streamtheworld.com/api/livestream-redirect/KUCVFM.mp3',\n",
       "     'isPrimaryStream': True,\n",
       "     'title': 'NET Radio',\n",
       "     'typeId': '10',\n",
       "     'typeName': 'Audio MP3 Stream'}]},\n",
       "  'version': '1.0'}}"
      ]
     },
     "execution_count": 8,
     "metadata": {},
     "output_type": "execute_result"
    }
   ],
   "source": [
    "orgId = random.randrange(2, 500)\n",
    "station = npr.Station(orgId)\n",
    "station.assets\n",
    "#station.find(\"https://static.wamu.org/streams/live/1/live_ssl.pls\")"
   ]
  },
  {
   "cell_type": "code",
   "execution_count": null,
   "metadata": {
    "collapsed": true
   },
   "outputs": [],
   "source": []
  }
 ],
 "metadata": {
  "kernelspec": {
   "display_name": "Python 3",
   "language": "python",
   "name": "python3"
  },
  "language_info": {
   "codemirror_mode": {
    "name": "ipython",
    "version": 3
   },
   "file_extension": ".py",
   "mimetype": "text/x-python",
   "name": "python",
   "nbconvert_exporter": "python",
   "pygments_lexer": "ipython3",
   "version": "3.6.0"
  }
 },
 "nbformat": 4,
 "nbformat_minor": 2
}
