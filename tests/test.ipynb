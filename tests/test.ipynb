{
 "cells": [
  {
   "cell_type": "code",
   "execution_count": 79,
   "metadata": {
    "collapsed": false
   },
   "outputs": [],
   "source": [
    "from unittest import TestCase\n",
    "import random\n",
    "import importlib.util\n",
    "spec = importlib.util.spec_from_file_location(\"npr\", \"../npr/__init__.py\")\n",
    "npr = importlib.util.module_from_spec(spec)\n",
    "spec.loader.exec_module(npr)"
   ]
  },
  {
   "cell_type": "code",
   "execution_count": 83,
   "metadata": {
    "collapsed": false
   },
   "outputs": [
    {
     "data": {
      "text/plain": [
       "[{'credit': 'Chad Riley/Getty Images',\n",
       "  'date': '2018-01-15T21:00:21-05:00',\n",
       "  'description': \"Our airwaves are filled with debates about immigrants and refugees. Who should be allowed in the United States, who shouldn't, and who should decide? In the wake of President Trump's vulgar remarks about some immigrants — remarks that he has since denied — we're going to revisit a favorite episode from 2016 that explores the patterns and paradoxes of immigration in the U.S. Historian Maria Cristina Garcia joins us.\",\n",
       "  'image': 'https://media.npr.org/assets/img/2018/01/15/liberty_wide-e41fa92a279a0d427ea807f947f26f14341c1979.jpg?s=600',\n",
       "  'link': 'https://one.npr.org/?sharedMediaId=578165785:578210216',\n",
       "  'program': 'Hidden Brain',\n",
       "  'title': 'Give Me Your Tired... '},\n",
       " {'credit': 'Lee Woodgate/Getty Images/Ikon Images',\n",
       "  'date': '2018-01-12T17:42:00-05:00',\n",
       "  'description': \"Do you ever catch yourself yelling at your Alexa? Or typing questions into Google that you wouldn't dare ask aloud? On this episode, our changing relationship with technology and what big data knows about our deepest, darkest secrets.\",\n",
       "  'image': 'https://media.npr.org/assets/img/2018/01/12/i-robot-cover-photo_wide-11353b8d16290ec9e8f12fb18d05151b694a9b6b.jpg?s=600',\n",
       "  'link': 'https://one.npr.org/?sharedMediaId=577622555:577666380',\n",
       "  'program': 'Hidden Brain',\n",
       "  'title': 'Radio Replay: I, Robot'},\n",
       " {'credit': 'Anadolu Agency/Getty Images',\n",
       "  'date': '2018-01-08T21:00:16-05:00',\n",
       "  'description': 'The tone of American politics can be...nasty. But is this nastiness really worse than in previous eras, and if so, what does that mean for our democracy? Historian David Moss takes the long view — arguing that American democracy is much more resilient than we realize. This week on Hidden Brain, we turn to history for insight about our current moment in American politics.',\n",
       "  'image': 'https://media.npr.org/assets/img/2018/01/05/gettyimages-6245370281_wide-8a2fa7571343253511c5838dcd8fc20a2a0ab041.jpg?s=600',\n",
       "  'link': 'https://one.npr.org/?sharedMediaId=575959966:576606076',\n",
       "  'program': 'Hidden Brain',\n",
       "  'title': 'E Pluribus Unum?'},\n",
       " {'credit': '',\n",
       "  'date': '2017-12-12T00:20:39-05:00',\n",
       "  'description': 'Levee Stream— a live neighborhood pop-up, Cadillac, radio station installation in New Orleans. Presented by Otabenga Jones & Associates and The Kitchen Sisters as part of Prospect.4 New Orleans, an international exhibit of 73 artists creating artworks and events throughout New Orleans. Part block part, part soap box—Levee Stream is a lively mix of music, DJs, and conversations with artists, activists, civil rights leaders, neighborhood entrepreneurs and visionaries taking place in the back seat of a cut-in-half 1959 pink Cadillac Coup de Ville with giant speakers in the trunk on Bayou Road, one of the oldest roads in the city. Hosted by WWOZ DJ, Cole Williams the show features interviews with Robert King and Albert Woodfox, members of the Angola 3 who were released from prison after decades of living in solitary confinement. Civil Rights pioneers Leona Tate and A.P. Tureaud Jr. Prospect.4 curator Trevor Schoonmaker and artists Hank Willis Thomas, Maria Berrio, and Jeff Whetstone. With music by legendary Hammond B3 organ player Joe Krown, contemporary jazz luminaries Kidd and Marlon Jordan,The Jones Sisters, DJ RQAway and DJ Flash Gordon Parks.',\n",
       "  'image': 'https://media.npr.org/images/podcasts/primary/icon_399943719-7a398007608da538099e20632d9d6d70bee806ad.jpg?s=600',\n",
       "  'link': 'https://one.npr.org/?sharedMediaId=570081658:570081660',\n",
       "  'program': 'The Kitchen Sisters Present',\n",
       "  'title': '84 - Levee Stream Live from New Orleans'},\n",
       " {'credit': '',\n",
       "  'date': '2017-11-27T10:40:27-05:00',\n",
       "  'description': 'Every culture has its idealized woman, its standard of beauty that is valorized. Everywhere women are altering themselves in small and major ways to attempt the look that is celebrated. History is full of methods, home grown and scientific, used to attain these ideals— footbinding, corsetting, liposuction, emaciation, molding of the skull, face lifts, lip stretching... In this story Hidden World of Girls travels to Jamaica — where cosmetic folk treatments and changing ideals of beauty are part of a the national debate going on in the music, the dancehalls and on the streets. In Jamaica, especially in poorer areas, there is a saying among men, \" I don\\'t want a \"maga\" (meager) woman.\" A maga woman, a slight or thin woman, says to the world that a man is poor and doesn\\'t have means to provide for her. A larger woman is a way of showing you have means and that you can afford to keep this woman fed. \"If you have no meat on your bones the society can\\'t see your wealth, your progress, your being,\" said Professor Sonjah Stanley-Niaah. \"This African standard of beauty, and it\\'s very much present in Jamaica. The body must be healthy and that health is expressed in some amount of fat. You musn\\'t just be able to slip through the arms of a man. The healthy body girl is anywhere from 160 to 210 pounds.So there\\'s a high level of interest and activity around modifying the body.\" In the 1990s, some women in Jamaica, longing to be large, started taking \"Chicken Pills,\" hormones sold to plump up the breasts and thighs of chickens. In Jamaica we talked with twenty-one year old Raquel Jones who was cast in an independent film called \"Chicken Pills,\"by Jamaica born playwright, Storm. The film is about two teenage girls. One is getting more attention from the boys in the class. The other character, Lisa, is having self esteem problems so she turns to the chicken pills. \"Here in Jamaica it\\'s pressure on teenage girls and women. We do stuff that increases these physical appearances, getting our bodies to look a certain way.\"',\n",
       "  'image': 'https://media.npr.org/images/podcasts/primary/icon_399943719-7a398007608da538099e20632d9d6d70bee806ad.jpg?s=600',\n",
       "  'link': 'https://one.npr.org/?sharedMediaId=566730594:566730596',\n",
       "  'program': 'The Kitchen Sisters Present',\n",
       "  'title': '83 - Chicken Pills - A Hidden World of Girls from Jamaica'},\n",
       " {'credit': '',\n",
       "  'date': '2017-11-09T18:25:38-05:00',\n",
       "  'description': 'November 14, 1960 — Four six-year-old girls, flanked by Federal Marshals, walked through screaming crowds and policemen on horseback as they approached their new schools for the first time. Leona Tate thought it must be Mardi Gras. Gail thought they were going to kill her. Four years after the Supreme Court ruled to desegregate schools in Brown v Board of Education, schools in the south were dragging their feet. Finally, in 1960, the NAACP and a daring judge selected two schools in New Orleans to push forward with integration — McDonogh No.19 Elementary and William Frantz. An application was put in the paper.  From 135 families, four girls were selected. They were given psychological tests. Their families were prepared. Members of the Louisiana Legislature took out paid advertisements in the local paper encouraging parents to boycott the schools. There were threats of violence. When the girls going to McDonogh No. 19 arrived in their classroom, the white children began to disappear. One by one their parents took them out of school. For a year and a half the girls were the only children in the school. Guarded night and day, they were not allowed to play outdoors. The windows were covered with brown paper. The story of integrating the New Orleans Public schools in 1960 told by Leona Tate, Tessie Prevost Williams, and Gail Etienne Stripling, who integrated McDonogh No.19 Elementary School, and retired Deputy U.S. Marshals Herschel Garner, Al Butler, and Charlie Burks who assisted with the integration efforts at the schools.',\n",
       "  'image': 'https://media.npr.org/images/podcasts/primary/icon_399943719-7a398007608da538099e20632d9d6d70bee806ad.jpg?s=600',\n",
       "  'link': 'https://one.npr.org/?sharedMediaId=563175164:563175166',\n",
       "  'program': 'The Kitchen Sisters Present',\n",
       "  'title': '82 - First Day of School—1960, New Orleans'},\n",
       " {'credit': '',\n",
       "  'date': '2018-01-11T17:30:00-05:00',\n",
       "  'description': 'What happens when purple, green and gold morphs with black and gold? New Orleans is now getting a long overdue refresher course on the phenomenon and one of the ways it shows up is king cake.',\n",
       "  'image': 'https://media.npr.org/images/podcasts/primary/icon_381443973-3030ae3323a217b2ef823e97190ed28f5a59dcdb.png?s=600',\n",
       "  'link': 'https://one.npr.org/?sharedMediaId=577492453:577492455',\n",
       "  'program': \"Where Y'Eat\",\n",
       "  'title': \"Where Y'Eat: When King Cake Season Morphs With Saints Season\"},\n",
       " {'credit': '',\n",
       "  'date': '2018-01-04T17:35:00-05:00',\n",
       "  'description': \"The arctic blast that visited New Orleans this week set teeth chattering and tongues waging, with some cursing the very weather. Sure, those accustomed to colder climates may scoff at our complaints down here, but they don't know what we endure in deepest summer. To freeze in winter too can feel like a betrayal by dear old Mother Nature herself. But here are a few thoughts to warm your heart, if not your house.\",\n",
       "  'image': 'https://media.npr.org/images/podcasts/primary/icon_381443973-3030ae3323a217b2ef823e97190ed28f5a59dcdb.png?s=600',\n",
       "  'link': 'https://one.npr.org/?sharedMediaId=575812319:575812321',\n",
       "  'program': \"Where Y'Eat\",\n",
       "  'title': \"Where Y'Eat: Yes, It's Freezing, but There's Still Gumbo\"},\n",
       " {'credit': '',\n",
       "  'date': '2017-12-28T17:35:00-05:00',\n",
       "  'description': \"Dining trends and new concepts can be exciting, but for some New Orleans expats the food priorities are all from the past. The holiday season is their time to reconvene with familiar flavors, and that time is limited. Don't get in their way. For those interested in the latest from the realm of food and restaurants, these have been exciting times around New Orleans. There have been so many new eateries, new flavors and hot trends turning up, it's been hard just to keep track of them, never mind\",\n",
       "  'image': 'https://media.npr.org/images/podcasts/primary/icon_381443973-3030ae3323a217b2ef823e97190ed28f5a59dcdb.png?s=600',\n",
       "  'link': 'https://one.npr.org/?sharedMediaId=574424391:574424393',\n",
       "  'program': \"Where Y'Eat\",\n",
       "  'title': \"Where Y'Eat: Home for the Holidays, Hungry for New Orleans Originals\"},\n",
       " {'credit': '',\n",
       "  'date': '2018-01-16T05:38:28-05:00',\n",
       "  'description': \"Baltimore became a second home to members of North Carolina's Lumbee tribe when they immigrated to the city after World War II, trading in farm work for factory and construction jobs.  Since then, the Baltimore American Indian Center on the 100 block of S Broadway has been a cultural hub for the transplanted Lumbee people and other Native Americans in the city.  In this episode: Conversations with Urban Indians about family, spirituality, and identity.\",\n",
       "  'image': 'https://media.npr.org/images/podcasts/primary/icon_451202110-a0cb1e5ec9fe8aabaee2aaddf96e678c72819d0a.jpg?s=600',\n",
       "  'link': 'https://one.npr.org/?sharedMediaId=578261248:578261250',\n",
       "  'program': 'Out of The Blocks on WYPR',\n",
       "  'title': '100 S Broadway, part 1'},\n",
       " {'credit': '',\n",
       "  'date': '2018-01-01T04:00:00-05:00',\n",
       "  'description': \"A spectrum of stories exploring the creative impulse: from an emcee, a sculptor, a muralist, a florist, and others in Baltimore's Station North neighborhood. This special episode was originally commissioned as a sound installation for the 2014 MICA exhibition, Locally Sourced. \",\n",
       "  'image': 'https://media.npr.org/images/podcasts/primary/icon_451202110-a0cb1e5ec9fe8aabaee2aaddf96e678c72819d0a.jpg?s=600',\n",
       "  'link': 'https://one.npr.org/?sharedMediaId=574931216:574931218',\n",
       "  'program': 'Out of The Blocks on WYPR',\n",
       "  'title': 'Station North'},\n",
       " {'credit': '',\n",
       "  'date': '2017-12-19T00:37:14-05:00',\n",
       "  'description': \"This episode kicks off with a barber who's been cutting hair in The Ville for 60 years, and it ends with the story of a woman who just recently became a proud homeowner in the neighborhood.  In between are beautiful, personal stories from mothers and daughters, fathers and sons, war veterans, preachers, urban gardeners, and more.\",\n",
       "  'image': 'https://media.npr.org/images/podcasts/primary/icon_451202110-a0cb1e5ec9fe8aabaee2aaddf96e678c72819d0a.jpg?s=600',\n",
       "  'link': 'https://one.npr.org/?sharedMediaId=571856235:571856237',\n",
       "  'program': 'Out of The Blocks on WYPR',\n",
       "  'title': 'Out of the Ville, part 2'},\n",
       " {'credit': '',\n",
       "  'date': '2017-12-20T00:00:00-05:00',\n",
       "  'description': \"How one of the strangest, and frankly blandest-tasting animals you'll ever encounter, might just be exactly the fish the planet needs.\",\n",
       "  'image': 'https://media.npr.org/images/podcasts/primary/icon_547836820-5deebfda3d397b92cc49500f3abd69e6f0d74132.jpg?s=600',\n",
       "  'link': 'https://one.npr.org/?sharedMediaId=572470967:572470969',\n",
       "  'program': 'The Fridge Light',\n",
       "  'title': 'Catch of the Day'},\n",
       " {'credit': '',\n",
       "  'date': '2017-12-12T00:00:00-05:00',\n",
       "  'description': \"Tofu: vegetarian superfood or toxin-ridden poison? (Spoiler alert: it's neither!)\",\n",
       "  'image': 'https://media.npr.org/images/podcasts/primary/icon_547836820-5deebfda3d397b92cc49500f3abd69e6f0d74132.jpg?s=600',\n",
       "  'link': 'https://one.npr.org/?sharedMediaId=570275689:570275691',\n",
       "  'program': 'The Fridge Light',\n",
       "  'title': 'Blank Slate'},\n",
       " {'credit': '',\n",
       "  'date': '2017-12-05T00:00:00-05:00',\n",
       "  'description': \"The sticky story of how gum conquered our planet — and why today it's fighting just to survive.\",\n",
       "  'image': 'https://media.npr.org/images/podcasts/primary/icon_547836820-5deebfda3d397b92cc49500f3abd69e6f0d74132.jpg?s=600',\n",
       "  'link': 'https://one.npr.org/?sharedMediaId=568672057:568672059',\n",
       "  'program': 'The Fridge Light',\n",
       "  'title': 'Chew Chew'}]"
      ]
     },
     "execution_count": 83,
     "metadata": {},
     "output_type": "execute_result"
    }
   ],
   "source": [
    "s = npr.Search('hidden')\n",
    "s.a['episodes']"
   ]
  },
  {
   "cell_type": "code",
   "execution_count": 84,
   "metadata": {
    "collapsed": false
   },
   "outputs": [
    {
     "name": "stdout",
     "output_type": "stream",
     "text": [
      "Chad Riley .response['items'][0]['items'][0]['links']['image'][7]['producer']\n"
     ]
    }
   ],
   "source": [
    "s.find('Chad Riley')"
   ]
  },
  {
   "cell_type": "code",
   "execution_count": 85,
   "metadata": {
    "collapsed": false
   },
   "outputs": [
    {
     "name": "stdout",
     "output_type": "stream",
     "text": [
      "The Kojo Nnamdi Show: Politics Hour .response['items'][0]['links']['podcasts'][4]['title']\n"
     ]
    }
   ],
   "source": [
    "s = npr.Stations('wamu')\n",
    "s.find('The Kojo Nnamdi Show: Politics Hour')"
   ]
  },
  {
   "cell_type": "code",
   "execution_count": 86,
   "metadata": {
    "collapsed": false
   },
   "outputs": [
    {
     "data": {
      "text/plain": [
       "'Craft Hard Cider Is On A Roll. How Ya Like Them Apples?'"
      ]
     },
     "execution_count": 86,
     "metadata": {},
     "output_type": "execute_result"
    }
   ],
   "source": [
    "story = npr.Story(565664321) # lookup story by id\n",
    "story.title"
   ]
  },
  {
   "cell_type": "code",
   "execution_count": 87,
   "metadata": {
    "collapsed": false
   },
   "outputs": [
    {
     "data": {
      "text/plain": [
       "'https://hd1.wamu.org/wamu-1.aac'"
      ]
     },
     "execution_count": 87,
     "metadata": {},
     "output_type": "execute_result"
    }
   ],
   "source": [
    "# unwrap function\n",
    "station = npr.Station(305)\n",
    "station.unwrap(station.stream)"
   ]
  },
  {
   "cell_type": "code",
   "execution_count": 88,
   "metadata": {
    "collapsed": false
   },
   "outputs": [
    {
     "data": {
      "text/plain": [
       "'Craft Hard Cider Is On A Roll. How Ya Like Them Apples?'"
      ]
     },
     "execution_count": 88,
     "metadata": {},
     "output_type": "execute_result"
    }
   ],
   "source": [
    "story = npr.Story(565664321) # lookup story by id\n",
    "story.title"
   ]
  },
  {
   "cell_type": "code",
   "execution_count": 89,
   "metadata": {
    "collapsed": false
   },
   "outputs": [
    {
     "data": {
      "text/plain": [
       "['U.S. Freezes More Than Half Of Aid To U.N. Agency For Palestinian Refugees',\n",
       " \"Concerns Grow That Infections From 'Zombie Deer' Meat Can Jump To Humans\",\n",
       " 'Home Care Agencies Often Wrongly Deny Medicare Help To The Chronically Ill ',\n",
       " 'Do You Have The Right To Plead Not Guilty When Your Lawyer Disagrees?',\n",
       " \"Here's Just How Little Confidence Americans Have In Political Institutions\",\n",
       " 'As Mueller Investigation Has Become Politicized, Americans Are Split On Its Fairness',\n",
       " \"Berlin's New Adidas Sneakers Feature Sewn-In Transit Tickets\",\n",
       " 'Bright Light, Sonic Boom As Meteor Streaks Across Southern Michigan',\n",
       " 'Majority Of National Park Service Board Resigns, Citing Administration Indifference',\n",
       " 'North Korean Athletes Will March With South Koreans At Pyeongchang Olympics',\n",
       " \"North Korea's Olympic Hopefuls Include A Pair Of Figure Skaters\",\n",
       " 'Opioid Crisis Blamed For Sharp Increase In Accidental Deaths In U.S.',\n",
       " 'WATCH: Sen. Bob Dole Receives Congressional Gold Medal',\n",
       " \"Be True To Your School: 58 Years Later, Brian Wilson Gets An 'A' In Music\",\n",
       " 'Pop-Punk Bassist Accused Of $27 Million Fraud Scheme',\n",
       " 'Days After Oil Tanker Sinks, Large Slicks Observed In East China Sea',\n",
       " \"'Black Mirror' And 'Electric Dreams' Prove It: The Anthology Show Is Back\",\n",
       " \"Are You Participating In This Year's Women's March?\",\n",
       " \"Are Photos Of 'Beautiful' Africa The Best Response To Trump's Vulgar Slur?\",\n",
       " \"Picture Book Author Says 'I Had To Be Real' When Writing 'Love'\",\n",
       " 'Trump Ethics Monitor: Has The President Kept His Promises?',\n",
       " \"Pop Culture Happy Hour: 'The Florida Project'\",\n",
       " \"For His 'Roll On Slow' Video, Glen Hansard's New York All-Nighter Gets Animated\",\n",
       " \"'Girls In The Picture' Traces A Friendship In The Flickers\",\n",
       " 'The Lemon Twigs: Tiny Desk Concert',\n",
       " 'No Closer To DACA Deal, Republicans Push Plan B To Keep Government Open',\n",
       " 'Ex-CIA Officer Arrested On Suspicion Of Exposing U.S. Spy Network In China']"
      ]
     },
     "execution_count": 89,
     "metadata": {},
     "output_type": "execute_result"
    }
   ],
   "source": [
    "stories = npr.Stories() # lookup top stories\n",
    "stories.titles"
   ]
  },
  {
   "cell_type": "code",
   "execution_count": 90,
   "metadata": {
    "collapsed": false
   },
   "outputs": [
    {
     "data": {
      "text/plain": [
       "{'id': '325', 'name': 'Indiana Public Radio'}"
      ]
     },
     "execution_count": 90,
     "metadata": {},
     "output_type": "execute_result"
    }
   ],
   "source": [
    "#find a station from a random (possibly invalid) orgid\n",
    "orgId = random.randrange(2, 500)\n",
    "station = npr.Station(orgId)\n",
    "station.a"
   ]
  },
  {
   "cell_type": "code",
   "execution_count": 91,
   "metadata": {
    "collapsed": false
   },
   "outputs": [
    {
     "name": "stdout",
     "output_type": "stream",
     "text": [
      "WBUR\n"
     ]
    }
   ],
   "source": [
    "#station roulette!\n",
    "stations = npr.Stations(42.3601, -71.0589)\n",
    "print(stations.name)"
   ]
  },
  {
   "cell_type": "code",
   "execution_count": 92,
   "metadata": {
    "collapsed": false
   },
   "outputs": [
    {
     "name": "stdout",
     "output_type": "stream",
     "text": [
      "https://static.wamu.org/streams/live/1/live_aac_ssl.pls\n",
      "https://www.weta.org/playlist/classical.m3u\n",
      "https://playerservices.streamtheworld.com/api/livestream-redirect/WYPR_HD1.mp3\n",
      "http://wtmd-ice.streamguys1.com/wtmd.m3u\n"
     ]
    }
   ],
   "source": [
    "stations = npr.Stations('22205')\n",
    "for station in stations.station:\n",
    "    if 'stream' in station:\n",
    "        print(station['stream'])"
   ]
  },
  {
   "cell_type": "code",
   "execution_count": 93,
   "metadata": {
    "collapsed": false
   },
   "outputs": [
    {
     "data": {
      "text/plain": [
       "\"The Hidden Brain helps curious people understand the world – and themselves. Using science and storytelling, Hidden Brain's host Shankar Vedantam reveals the unconscious patterns that drive human behavior, the biases that shape our choices, and the triggers that direct the course of our relationships.\""
      ]
     },
     "execution_count": 93,
     "metadata": {},
     "output_type": "execute_result"
    }
   ],
   "source": [
    "query = npr.Search('hidden')\n",
    "query.response['items'][0]['attributes']['description']"
   ]
  },
  {
   "cell_type": "code",
   "execution_count": 94,
   "metadata": {
    "collapsed": false
   },
   "outputs": [
    {
     "name": "stdout",
     "output_type": "stream",
     "text": [
      "{\n",
      "  \"attributes\": {\n",
      "    \"affiliations\": [\n",
      "      {\n",
      "        \"daysSinceLastListen\": 1185,\n",
      "        \"following\": false,\n",
      "        \"href\": \"https://api.npr.org/listening/v2/aggregation/510019/recommendations\",\n",
      "        \"id\": \"510019\",\n",
      "        \"notif_following\": {\n",
      "          \"default\": \"/topics/prod_followed_510019\",\n",
      "          \"ios\": \"/topics/prod_followed_IOS_510019\"\n",
      "        },\n",
      "        \"notif_rated\": {\n",
      "          \"default\": \"/topics/prod_rated_510019\",\n",
      "          \"ios\": \"/topics/prod_rated_IOS_510019\"\n",
      "        },\n",
      "        \"rating\": 0.5,\n",
      "        \"title\": \"All Songs Considered\"\n",
      "      },\n",
      "      {\n",
      "        \"daysSinceLastListen\": 1227,\n",
      "        \"following\": false,\n",
      "        \"href\": \"https://api.npr.org/listening/v2/aggregation/510282/recommendations\",\n",
      "        \"id\": \"510282\",\n",
      "        \"notif_following\": {\n",
      "          \"default\": \"/topics/prod_followed_510282\",\n",
      "          \"ios\": \"/topics/prod_followed_IOS_510282\"\n",
      "        },\n",
      "        \"notif_rated\": {\n",
      "          \"default\": \"/topics/prod_rated_510282\",\n",
      "          \"ios\": \"/topics/prod_rated_IOS_510282\"\n",
      "        },\n",
      "        \"rating\": 0.3,\n",
      "        \"title\": \"Pop Culture Happy Hour\"\n",
      "      },\n",
      "      {\n",
      "        \"daysSinceLastListen\": 1227,\n",
      "        \"following\": false,\n",
      "        \"href\": \"https://api.npr.org/listening/v2/aggregation/510289/recommendations\",\n",
      "        \"id\": \"510289\",\n",
      "        \"notif_following\": {\n",
      "          \"default\": \"/topics/prod_followed_510289\",\n",
      "          \"ios\": \"/topics/prod_followed_IOS_510289\"\n",
      "        },\n",
      "        \"notif_rated\": {\n",
      "          \"default\": \"/topics/prod_rated_510289\",\n",
      "          \"ios\": \"/topics/prod_rated_IOS_510289\"\n",
      "        },\n",
      "        \"rating\": 0.2,\n",
      "        \"title\": \"Planet Money\"\n",
      "      },\n",
      "      {\n",
      "        \"daysSinceLastListen\": 805,\n",
      "        \"following\": false,\n",
      "        \"href\": \"https://api.npr.org/listening/v2/aggregation/510298/recommendations\",\n",
      "        \"id\": \"510298\",\n",
      "        \"notif_following\": {\n",
      "          \"default\": \"/topics/prod_followed_510298\",\n",
      "          \"ios\": \"/topics/prod_followed_IOS_510298\"\n",
      "        },\n",
      "        \"notif_rated\": {\n",
      "          \"default\": \"/topics/prod_rated_510298\",\n",
      "          \"ios\": \"/topics/prod_rated_IOS_510298\"\n",
      "        },\n",
      "        \"rating\": 0.45,\n",
      "        \"title\": \"TED Radio Hour\"\n",
      "      },\n",
      "      {\n",
      "        \"daysSinceLastListen\": 1227,\n",
      "        \"following\": false,\n",
      "        \"href\": \"https://api.npr.org/listening/v2/aggregation/510303/recommendations\",\n",
      "        \"id\": \"510303\",\n",
      "        \"notif_following\": {\n",
      "          \"default\": \"/topics/prod_followed_510303\",\n",
      "          \"ios\": \"/topics/prod_followed_IOS_510303\"\n",
      "        },\n",
      "        \"notif_rated\": {\n",
      "          \"default\": \"/topics/prod_rated_510303\",\n",
      "          \"ios\": \"/topics/prod_rated_IOS_510303\"\n",
      "        },\n",
      "        \"rating\": 0.2,\n",
      "        \"title\": \"How To Do Everything\"\n",
      "      }\n",
      "    ],\n",
      "    \"cohort\": {\n",
      "      \"id\": \"F\",\n",
      "      \"name\": \"New baseline with Explore changes\",\n",
      "      \"public\": \"430\"\n",
      "    },\n",
      "    \"email\": \"dperry@npr.org\",\n",
      "    \"firstName\": \"Demian\",\n",
      "    \"id\": \"1780448\",\n",
      "    \"lastName\": \"Perry\",\n",
      "    \"organizations\": [\n",
      "      {\n",
      "        \"call\": \"WAMU\",\n",
      "        \"city\": \"Washington\",\n",
      "        \"displayName\": \"WAMU 88.5\",\n",
      "        \"donationUrl\": \"http://wamu.org/support/donate/?utm_source=NPROne&utm_medium=app-referral&utm_content=20180117&utm_campaign=NPRdonate\",\n",
      "        \"id\": \"305\",\n",
      "        \"logo\": \"https://media.npr.org/images/stations/nprone_logos/wamu_fm.png\",\n",
      "        \"membership\": {\n",
      "          \"memberType\": \"Non-Member\"\n",
      "        },\n",
      "        \"notif_org\": {\n",
      "          \"default\": \"/topics/prod_org_305\",\n",
      "          \"ios\": \"/topics/prod_org_IOS_305\"\n",
      "        },\n",
      "        \"smallLogo\": \"https://media.npr.org/images/stations/logos/wamu_fm.gif\"\n",
      "      }\n",
      "    ],\n",
      "    \"totalListeningTime\": \"22012\"\n",
      "  },\n",
      "  \"errors\": [],\n",
      "  \"href\": \"https://api.npr.org/identity/v2/user\",\n",
      "  \"items\": [],\n",
      "  \"links\": {\n",
      "    \"organizations\": [\n",
      "      {\n",
      "        \"content-type\": \"application/json\",\n",
      "        \"href\": \"https://api.npr.org/listening/v2/organizations/305/recommendations\"\n",
      "      }\n",
      "    ]\n",
      "  },\n",
      "  \"version\": \"1.0\"\n",
      "}\n"
     ]
    }
   ],
   "source": [
    "u = npr.User()\n",
    "u.pretty()"
   ]
  },
  {
   "cell_type": "code",
   "execution_count": 95,
   "metadata": {
    "collapsed": false
   },
   "outputs": [
    {
     "data": {
      "text/plain": [
       "'Trump Comments Ignite Immigrants In Philly To Unite'"
      ]
     },
     "execution_count": 95,
     "metadata": {},
     "output_type": "execute_result"
    }
   ],
   "source": [
    "player = npr.One()\n",
    "player.skip()\n",
    "player.skip()\n",
    "player.title"
   ]
  },
  {
   "cell_type": "code",
   "execution_count": 96,
   "metadata": {
    "collapsed": false
   },
   "outputs": [
    {
     "name": "stdout",
     "output_type": "stream",
     "text": [
      "station = npr.Station(305) # lookup station by orgId\n",
      "station.a # quick-reference of variables in namespace\n",
      "station.unwrap(station.stream) # some streams need to be unwrapped for use by FFMPEG\n",
      "station.pretty() # print raw api response\n",
      "s.find('88.5') # reverse lookup response keys by value\n",
      "\n",
      "stations = npr.Stations(38.9072,-77.0369) # npr.Stations('22205') | npr.Stations('WAMU')\n",
      "stations.station[0]['name'] # example of quick-reference across a list\n",
      "\n",
      "story = npr.Story(565664321) # lookup story by id\n",
      "story.title\n",
      "\n",
      "stories = npr.Stories() # lookup top stories\n",
      "stories.titles\n",
      "\n",
      "user = npr.User() # data on the logged in user\n",
      "\n",
      "player = npr.One() # create a NPR One player object\n",
      "player.skip() # player.complete()\n",
      "\n",
      "query = npr.Search('hidden')\n",
      "\n",
      "hiddenBrain = npr.Agg('510308') # the aggId is listed as the 'affiliation' in search\n",
      "hiddenBrain.pretty()\n",
      "\n",
      "explore = npr.Channels()\n",
      "explore.fetch(2) - fetch segments from third row of explore list\n",
      "explore.row.pretty()\n",
      "\n",
      "npr.clientauth()\n",
      "npr.auth()\n",
      "npr.deauth()\n",
      "npr.login()\n",
      "npr.logout()\n"
     ]
    }
   ],
   "source": [
    "npr.docs()"
   ]
  },
  {
   "cell_type": "code",
   "execution_count": 97,
   "metadata": {
    "collapsed": false
   },
   "outputs": [
    {
     "name": "stdout",
     "output_type": "stream",
     "text": [
      "Go to https://npr.org/device login and enter:\n",
      "BBYETZ\n",
      "User logged in and stored locally\n"
     ]
    }
   ],
   "source": [
    "npr.login()"
   ]
  },
  {
   "cell_type": "code",
   "execution_count": null,
   "metadata": {
    "collapsed": true
   },
   "outputs": [],
   "source": []
  }
 ],
 "metadata": {
  "kernelspec": {
   "display_name": "Python 3",
   "language": "python",
   "name": "python3"
  },
  "language_info": {
   "codemirror_mode": {
    "name": "ipython",
    "version": 3
   },
   "file_extension": ".py",
   "mimetype": "text/x-python",
   "name": "python",
   "nbconvert_exporter": "python",
   "pygments_lexer": "ipython3",
   "version": "3.6.0"
  }
 },
 "nbformat": 4,
 "nbformat_minor": 2
}
