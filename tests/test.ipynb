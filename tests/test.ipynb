{
 "cells": [
  {
   "cell_type": "code",
   "execution_count": 1,
   "metadata": {
    "collapsed": false
   },
   "outputs": [],
   "source": [
    "from unittest import TestCase\n",
    "import random\n",
    "import importlib.util\n",
    "spec = importlib.util.spec_from_file_location(\"npr\", \"../npr/__init__.py\")\n",
    "npr = importlib.util.module_from_spec(spec)\n",
    "spec.loader.exec_module(npr)"
   ]
  },
  {
   "cell_type": "code",
   "execution_count": 2,
   "metadata": {
    "collapsed": false
   },
   "outputs": [
    {
     "data": {
      "text/plain": [
       "'https://tjc.wnyc.org/js-stream-npr.aac'"
      ]
     },
     "execution_count": 2,
     "metadata": {},
     "output_type": "execute_result"
    }
   ],
   "source": [
    "s = npr.Station('wnyc')\n",
    "s.live"
   ]
  },
  {
   "cell_type": "code",
   "execution_count": 3,
   "metadata": {
    "collapsed": false
   },
   "outputs": [
    {
     "data": {
      "text/plain": [
       "'https://hd1.wamu.org'"
      ]
     },
     "execution_count": 3,
     "metadata": {},
     "output_type": "execute_result"
    }
   ],
   "source": [
    "s = npr.Station(38.9072,-77.0369)\n",
    "s.live"
   ]
  },
  {
   "cell_type": "code",
   "execution_count": 3,
   "metadata": {
    "collapsed": false
   },
   "outputs": [
    {
     "name": "stdout",
     "output_type": "stream",
     "text": [
      "Go to https://npr.org/device login and enter:\n",
      "XBQFFT\n",
      "No token.  npr.login() will fetch it for you.\n",
      "User logged in and stored locally\n"
     ]
    }
   ],
   "source": [
    "npr.login()"
   ]
  },
  {
   "cell_type": "code",
   "execution_count": 4,
   "metadata": {
    "collapsed": false
   },
   "outputs": [
    {
     "data": {
      "text/plain": [
       "'Craft Hard Cider Is On A Roll. How Ya Like Them Apples?'"
      ]
     },
     "execution_count": 4,
     "metadata": {},
     "output_type": "execute_result"
    }
   ],
   "source": [
    "story = npr.Read(565664321)\n",
    "story.title"
   ]
  },
  {
   "cell_type": "code",
   "execution_count": 5,
   "metadata": {
    "collapsed": false
   },
   "outputs": [
    {
     "data": {
      "text/plain": [
       "\"The Hidden Brain helps curious people understand the world – and themselves. Using science and storytelling, Hidden Brain's host Shankar Vedantam reveals the unconscious patterns that drive human behavior, the biases that shape our choices, and the triggers that direct the course of our relationships.\""
      ]
     },
     "execution_count": 5,
     "metadata": {},
     "output_type": "execute_result"
    }
   ],
   "source": [
    "query = npr.Search('hidden')\n",
    "query.response['items'][0]['attributes']['description']"
   ]
  },
  {
   "cell_type": "code",
   "execution_count": 6,
   "metadata": {
    "collapsed": false
   },
   "outputs": [
    {
     "name": "stdout",
     "output_type": "stream",
     "text": [
      "Demian .response['attributes']['firstName']\n"
     ]
    }
   ],
   "source": [
    "u = npr.User()\n",
    "u.find('Demian')"
   ]
  },
  {
   "cell_type": "code",
   "execution_count": 7,
   "metadata": {
    "collapsed": false
   },
   "outputs": [
    {
     "data": {
      "text/plain": [
       "\"Fallout From 'Unite The Right' Rally Leads Va. Police Chief To Retire\""
      ]
     },
     "execution_count": 7,
     "metadata": {},
     "output_type": "execute_result"
    }
   ],
   "source": [
    "player = npr.One()\n",
    "player.skip()\n",
    "player.skip()\n",
    "player.title"
   ]
  },
  {
   "cell_type": "code",
   "execution_count": 8,
   "metadata": {
    "collapsed": false
   },
   "outputs": [
    {
     "data": {
      "text/plain": [
       "{'assets': {...},\n",
       " 'live': 'https://15903.live.streamtheworld.com:443/WCMUFM_SC',\n",
       " 'response': {'attributes': {'brand': {'band': 'FM',\n",
       "    'call': 'WCML',\n",
       "    'frequency': '91.7',\n",
       "    'marketCity': 'Alpena',\n",
       "    'marketState': 'MI',\n",
       "    'name': 'WCMU',\n",
       "    'tagline': 'Music and NPR News for Central and Northern Michigan'},\n",
       "   'eligibility': {'format': None,\n",
       "    'musicOnly': False,\n",
       "    'nprOne': True,\n",
       "    'status': '1'},\n",
       "   'guid': '4fcf70100d304d27a0a0a3c663daefc4',\n",
       "   'network': {'currentOrgId': '344',\n",
       "    'inheritingFrom': '341',\n",
       "    'name': 'WCMU',\n",
       "    'tier1': {'id': '341',\n",
       "     'name': 'CMU Public Radio',\n",
       "     'status': '10',\n",
       "     'tier2': [{'id': '342',\n",
       "       'name': 'WCMU-FM',\n",
       "       'tier3': [{'id': '343', 'name': 'WCMB-FM', 'usesInheritance': True},\n",
       "        {'id': '344', 'name': 'WCML-FM', 'usesInheritance': True},\n",
       "        {'id': '345', 'name': 'WCMW-FM', 'usesInheritance': True},\n",
       "        {'id': '346', 'name': 'WCMZ-FM', 'usesInheritance': True},\n",
       "        {'id': '347', 'name': 'WUCX-FM', 'usesInheritance': False},\n",
       "        {'id': '348', 'name': 'WWCM-FM', 'usesInheritance': True}],\n",
       "       'usesInheritance': True}],\n",
       "     'usesInheritance': False},\n",
       "    'usesInheritance': True},\n",
       "   'newscast': {'id': '341', 'recency': 360},\n",
       "   'orgId': '344'},\n",
       "  'errors': [],\n",
       "  'href': 'https://api.npr.org/stationfinder/v3/stations/344',\n",
       "  'items': [],\n",
       "  'links': {'brand': [{'content-type': 'text/html',\n",
       "     'href': 'http://radio.wcmu.org',\n",
       "     'rel': 'homepage'},\n",
       "    {'content-type': 'image/png',\n",
       "     'href': 'https://media.npr.org/images/stations/nprone_logos/cmupr.png',\n",
       "     'rel': 'logo'},\n",
       "    {'content-type': 'image/gif',\n",
       "     'href': 'https://media.npr.org/images/stations/logos/cmupr.gif',\n",
       "     'rel': 'small-logo'},\n",
       "    {'content-type': 'text/html',\n",
       "     'href': 'https://www.facebook.com/cmupublicradio',\n",
       "     'rel': 'facebook'},\n",
       "    {'content-type': 'text/html',\n",
       "     'href': 'http://www.twitter.com/WCMUNews',\n",
       "     'rel': 'twitter'}],\n",
       "   'donation': [{'guid': '997ef663858d46e89a122cf64c38ed1d',\n",
       "     'href': 'http://www.wcmu.org/gift/',\n",
       "     'title': 'Support CMU Public Radio',\n",
       "     'typeId': '4',\n",
       "     'typeName': 'Pledge Page'}],\n",
       "   'streams': [{'guid': '72b7fa8988494c1eaed20bfa5804c30d',\n",
       "     'href': 'https://playerservices.streamtheworld.com/pls/WCMUHD2.pls',\n",
       "     'isPrimaryStream': False,\n",
       "     'title': 'WCMU News & Talk',\n",
       "     'typeId': '10',\n",
       "     'typeName': 'Audio MP3 Stream'},\n",
       "    {'guid': '5add8c05012d480eb7aeb7728a1d2aa1',\n",
       "     'href': 'https://playerservices.streamtheworld.com/pls/WCMUFM.pls',\n",
       "     'isPrimaryStream': True,\n",
       "     'title': 'WCMU Public Radio',\n",
       "     'typeId': '10',\n",
       "     'typeName': 'Audio MP3 Stream'}]},\n",
       "  'version': '1.0'},\n",
       " 'streams': [{'guid': '72b7fa8988494c1eaed20bfa5804c30d',\n",
       "   'href': 'https://playerservices.streamtheworld.com/pls/WCMUHD2.pls',\n",
       "   'isPrimaryStream': False,\n",
       "   'title': 'WCMU News & Talk',\n",
       "   'typeId': '10',\n",
       "   'typeName': 'Audio MP3 Stream'},\n",
       "  {'guid': '5add8c05012d480eb7aeb7728a1d2aa1',\n",
       "   'href': 'https://playerservices.streamtheworld.com/pls/WCMUFM.pls',\n",
       "   'isPrimaryStream': True,\n",
       "   'title': 'WCMU Public Radio',\n",
       "   'typeId': '10',\n",
       "   'typeName': 'Audio MP3 Stream'}]}"
      ]
     },
     "execution_count": 8,
     "metadata": {},
     "output_type": "execute_result"
    }
   ],
   "source": [
    "orgId = random.randrange(2, 500)\n",
    "station = npr.Station(orgId)\n",
    "station.assets\n",
    "#station.find(\"https://static.wamu.org/streams/live/1/live_ssl.pls\")"
   ]
  },
  {
   "cell_type": "code",
   "execution_count": 14,
   "metadata": {
    "collapsed": false
   },
   "outputs": [
    {
     "name": "stdout",
     "output_type": "stream",
     "text": [
      "\n",
      "STATION API:\n",
      "    s = npr.Station('wamu') | s = npr.Station('22205')\n",
      "    s = npr.Station(305) | s = npr.Station(38.9072,-77.0369)\n",
      "        s.assets <-this is a generic DISPLAY attribute that works on all classes\n",
      "        s.find('88.5') <-this is a generic REVERSE LOOKUP function that works on all classes\n",
      "\n",
      "READING SERVICE:\n",
      "    story = npr.Read(565664321)\n",
      "    \n",
      "LISTENING SERVICE:\n",
      "    player = npr.One()\n",
      "        print(\"  player.skip() | player.complete()\n",
      "    query = npr.Search('hidden')\n",
      "    hiddenBrain = npr.Agg('510308') - the aggId is listed as the 'affiliation' in search\n",
      "        hiddenBrain.pretty()\n",
      "    explore = npr.Channels()\n",
      "        explore.fetch(2) - fetch segments from third row of explore list\n",
      "        explore.row.pretty()\n",
      "\n",
      "IDENTITY SERVICE:\n",
      "    user = npr.User()\n",
      "\n",
      "AUTH:\n",
      "    npr.clientauth()\n",
      "    npr.auth()\n",
      "    npr.deauth()\n",
      "    npr.login()\n",
      "    npr.logout()\n",
      "    \n"
     ]
    }
   ],
   "source": [
    "npr.docs()"
   ]
  },
  {
   "cell_type": "code",
   "execution_count": null,
   "metadata": {
    "collapsed": true
   },
   "outputs": [],
   "source": []
  }
 ],
 "metadata": {
  "kernelspec": {
   "display_name": "Python 3",
   "language": "python",
   "name": "python3"
  },
  "language_info": {
   "codemirror_mode": {
    "name": "ipython",
    "version": 3
   },
   "file_extension": ".py",
   "mimetype": "text/x-python",
   "name": "python",
   "nbconvert_exporter": "python",
   "pygments_lexer": "ipython3",
   "version": "3.6.0"
  }
 },
 "nbformat": 4,
 "nbformat_minor": 2
}
