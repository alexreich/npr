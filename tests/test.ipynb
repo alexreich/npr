{
 "cells": [
  {
   "cell_type": "code",
   "execution_count": 14,
   "metadata": {
    "collapsed": false
   },
   "outputs": [],
   "source": [
    "from unittest import TestCase\n",
    "import random\n",
    "import importlib.util\n",
    "spec = importlib.util.spec_from_file_location(\"npr\", \"../npr/__init__.py\")\n",
    "npr = importlib.util.module_from_spec(spec)\n",
    "spec.loader.exec_module(npr)"
   ]
  },
  {
   "cell_type": "code",
   "execution_count": 61,
   "metadata": {
    "collapsed": false
   },
   "outputs": [
    {
     "data": {
      "text/plain": [
       "{'id': '304',\n",
       " 'mp3': 'https://18093.live.streamtheworld.com:443/WAMCHD2_SC',\n",
       " 'name': 'Northeast Public Radio',\n",
       " 'stream': 'https://16113.live.streamtheworld.com:443/WAMCFMAAC_SC'}"
      ]
     },
     "execution_count": 61,
     "metadata": {},
     "output_type": "execute_result"
    }
   ],
   "source": [
    "#find a station from a random (possibly invalid) orgid\n",
    "orgId = random.randrange(2, 500)\n",
    "station = npr.Station(orgId)\n",
    "station.a"
   ]
  },
  {
   "cell_type": "code",
   "execution_count": 70,
   "metadata": {
    "collapsed": false
   },
   "outputs": [
    {
     "name": "stdout",
     "output_type": "stream",
     "text": [
      "WGBH Radio\n"
     ]
    }
   ],
   "source": [
    "#station roulette!\n",
    "stations = npr.Stations(42.3601, -71.0589)\n",
    "print(stations.name)"
   ]
  },
  {
   "cell_type": "code",
   "execution_count": 71,
   "metadata": {
    "collapsed": false
   },
   "outputs": [
    {
     "name": "stdout",
     "output_type": "stream",
     "text": [
      "https://hd1.wamu.org/wamu-1.aac\n",
      "https://weta.org/sites/default/files/preroll/LILI_WPA_10345_Oct2017_0.mp3\n",
      "https://playerservices.streamtheworld.com/api/livestream-redirect/WYPR_HD1.mp3\n",
      "http://wtmd-ice.streamguys1.com:80/wtmd\n"
     ]
    }
   ],
   "source": [
    "stations = npr.Stations('22205')\n",
    "for station in stations.station:\n",
    "    if 'stream' in station:\n",
    "        print(station['stream'])"
   ]
  },
  {
   "cell_type": "code",
   "execution_count": 5,
   "metadata": {
    "collapsed": false
   },
   "outputs": [
    {
     "data": {
      "text/plain": [
       "\"The Hidden Brain helps curious people understand the world – and themselves. Using science and storytelling, Hidden Brain's host Shankar Vedantam reveals the unconscious patterns that drive human behavior, the biases that shape our choices, and the triggers that direct the course of our relationships.\""
      ]
     },
     "execution_count": 5,
     "metadata": {},
     "output_type": "execute_result"
    }
   ],
   "source": [
    "query = npr.Search('hidden')\n",
    "query.response['items'][0]['attributes']['description']"
   ]
  },
  {
   "cell_type": "code",
   "execution_count": 6,
   "metadata": {
    "collapsed": false
   },
   "outputs": [
    {
     "name": "stdout",
     "output_type": "stream",
     "text": [
      "Demian .response['attributes']['firstName']\n"
     ]
    }
   ],
   "source": [
    "u = npr.User()\n",
    "u.find('Demian')"
   ]
  },
  {
   "cell_type": "code",
   "execution_count": 7,
   "metadata": {
    "collapsed": false
   },
   "outputs": [
    {
     "data": {
      "text/plain": [
       "\"Fallout From 'Unite The Right' Rally Leads Va. Police Chief To Retire\""
      ]
     },
     "execution_count": 7,
     "metadata": {},
     "output_type": "execute_result"
    }
   ],
   "source": [
    "player = npr.One()\n",
    "player.skip()\n",
    "player.skip()\n",
    "player.title"
   ]
  },
  {
   "cell_type": "code",
   "execution_count": 14,
   "metadata": {
    "collapsed": false
   },
   "outputs": [
    {
     "name": "stdout",
     "output_type": "stream",
     "text": [
      "\n",
      "STATION API:\n",
      "    s = npr.Station('wamu') | s = npr.Station('22205')\n",
      "    s = npr.Station(305) | s = npr.Station(38.9072,-77.0369)\n",
      "        s.assets <-this is a generic DISPLAY attribute that works on all classes\n",
      "        s.find('88.5') <-this is a generic REVERSE LOOKUP function that works on all classes\n",
      "\n",
      "READING SERVICE:\n",
      "    story = npr.Read(565664321)\n",
      "    \n",
      "LISTENING SERVICE:\n",
      "    player = npr.One()\n",
      "        print(\"  player.skip() | player.complete()\n",
      "    query = npr.Search('hidden')\n",
      "    hiddenBrain = npr.Agg('510308') - the aggId is listed as the 'affiliation' in search\n",
      "        hiddenBrain.pretty()\n",
      "    explore = npr.Channels()\n",
      "        explore.fetch(2) - fetch segments from third row of explore list\n",
      "        explore.row.pretty()\n",
      "\n",
      "IDENTITY SERVICE:\n",
      "    user = npr.User()\n",
      "\n",
      "AUTH:\n",
      "    npr.clientauth()\n",
      "    npr.auth()\n",
      "    npr.deauth()\n",
      "    npr.login()\n",
      "    npr.logout()\n",
      "    \n"
     ]
    }
   ],
   "source": [
    "npr.docs()"
   ]
  },
  {
   "cell_type": "code",
   "execution_count": 3,
   "metadata": {
    "collapsed": false
   },
   "outputs": [
    {
     "name": "stdout",
     "output_type": "stream",
     "text": [
      "Go to https://npr.org/device login and enter:\n",
      "XBQFFT\n",
      "No token.  npr.login() will fetch it for you.\n",
      "User logged in and stored locally\n"
     ]
    }
   ],
   "source": [
    "npr.login()"
   ]
  }
 ],
 "metadata": {
  "kernelspec": {
   "display_name": "Python 3",
   "language": "python",
   "name": "python3"
  },
  "language_info": {
   "codemirror_mode": {
    "name": "ipython",
    "version": 3
   },
   "file_extension": ".py",
   "mimetype": "text/x-python",
   "name": "python",
   "nbconvert_exporter": "python",
   "pygments_lexer": "ipython3",
   "version": "3.6.0"
  }
 },
 "nbformat": 4,
 "nbformat_minor": 2
}
