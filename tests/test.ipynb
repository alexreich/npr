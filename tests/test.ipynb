{
 "cells": [
  {
   "cell_type": "code",
   "execution_count": 1,
   "metadata": {
    "collapsed": false
   },
   "outputs": [],
   "source": [
    "from unittest import TestCase\n",
    "import random\n",
    "import importlib.util\n",
    "spec = importlib.util.spec_from_file_location(\"npr\", \"../npr/__init__.py\")\n",
    "npr = importlib.util.module_from_spec(spec)\n",
    "spec.loader.exec_module(npr)"
   ]
  },
  {
   "cell_type": "code",
   "execution_count": 3,
   "metadata": {
    "collapsed": false
   },
   "outputs": [
    {
     "name": "stdout",
     "output_type": "stream",
     "text": [
      "Go to https://npr.org/device login and enter:\n",
      "8R6Z6U\n",
      "User logged in and stored locally\n"
     ]
    }
   ],
   "source": [
    "npr.login()"
   ]
  },
  {
   "cell_type": "code",
   "execution_count": 4,
   "metadata": {
    "collapsed": false
   },
   "outputs": [
    {
     "data": {
      "text/plain": [
       "['https://www.npr.org/578687323',\n",
       " 'https://www.npr.org/578567057',\n",
       " 'https://www.npr.org/578423012',\n",
       " 'https://www.npr.org/578479044',\n",
       " 'https://www.npr.org/578422668',\n",
       " 'https://www.npr.org/578582087',\n",
       " 'https://www.npr.org/572312972',\n",
       " 'https://www.npr.org/578568074',\n",
       " 'https://www.npr.org/578421882',\n",
       " 'https://www.npr.org/578716530',\n",
       " 'https://www.npr.org/578598875',\n",
       " 'https://www.npr.org/578532068',\n",
       " 'https://www.npr.org/578578704',\n",
       " 'https://www.npr.org/578584988',\n",
       " 'https://www.npr.org/578622732',\n",
       " 'https://www.npr.org/513724796',\n",
       " 'https://www.npr.org/578582891',\n",
       " 'https://www.npr.org/578655161',\n",
       " 'https://www.npr.org/578571424',\n",
       " 'https://www.npr.org/578583184',\n",
       " 'https://www.npr.org/578610243',\n",
       " 'https://www.npr.org/578610222',\n",
       " 'https://www.npr.org/578645954',\n",
       " 'https://www.npr.org/578525840',\n",
       " 'https://www.npr.org/578610216',\n",
       " 'https://www.npr.org/578606674',\n",
       " 'https://www.npr.org/578570477',\n",
       " 'https://www.npr.org/578561689',\n",
       " 'https://www.npr.org/578585250']"
      ]
     },
     "execution_count": 4,
     "metadata": {},
     "output_type": "execute_result"
    }
   ],
   "source": [
    "stories = npr.Stories() # lookup top stories\n",
    "stories.links"
   ]
  },
  {
   "cell_type": "code",
   "execution_count": 5,
   "metadata": {
    "collapsed": false
   },
   "outputs": [
    {
     "data": {
      "text/plain": [
       "{'byline': 'Adhiti Bandlamudi',\n",
       " 'caption': 'Apples used for hard cider.',\n",
       " 'image': 'https://media.npr.org/assets/img/2017/11/22/hard_cider-1.jpg',\n",
       " 'imageAttribution': 'Adhiti Bandlamudi/NPR',\n",
       " 'lastPublishDate': '2017-12-20T09:09:19-05:00',\n",
       " 'link': 'https://www.npr.org/565664321',\n",
       " 'organization': 'NPR',\n",
       " 'slug': 'The Salt',\n",
       " 'slugId': '139941248',\n",
       " 'title': 'Craft Hard Cider Is On A Roll. How Ya Like Them Apples?'}"
      ]
     },
     "execution_count": 5,
     "metadata": {},
     "output_type": "execute_result"
    }
   ],
   "source": [
    "story = npr.Story(565664321) # lookup story by id\n",
    "story.a"
   ]
  },
  {
   "cell_type": "code",
   "execution_count": 6,
   "metadata": {
    "collapsed": false
   },
   "outputs": [
    {
     "data": {
      "text/plain": [
       "[{'credit': 'Sophie Blackall/Getty Images/Ikon Images',\n",
       "  'date': '2017-11-13T21:00:00-05:00',\n",
       "  'image': 'https://media.npr.org/assets/img/2017/11/13/rsz_gettyimages-102662145-smaller1_wide-f65aa4acd9761b9ddf8ce0489dc1fd26905a2daa.jpg?s=600',\n",
       "  'link': 'https://one.npr.org/?sharedMediaId=563831137:563902649',\n",
       "  'program': '',\n",
       "  'title': 'The \"Swiss Army Knife\" Of Health: A Good Night\\'s Sleep '},\n",
       " {'credit': '',\n",
       "  'date': '2018-01-08T07:36:00-05:00',\n",
       "  'image': '',\n",
       "  'link': 'https://one.npr.org/?sharedMediaId=576428410:576435335',\n",
       "  'program': 'morning edition',\n",
       "  'title': 'NPR Investigation Finds Hidden Epidemic Of Sexual Assault '},\n",
       " {'credit': ' ',\n",
       "  'date': '2017-12-03T08:08:00-05:00',\n",
       "  'image': 'https://media.npr.org/assets/img/2017/12/01/hiddensee_wide-191f8b94aeb5362833040e1103bf7900b01d3de1.jpg?s=600',\n",
       "  'link': 'https://one.npr.org/?sharedMediaId=567792951:568133106',\n",
       "  'program': 'weekend edition sunday',\n",
       "  'title': \"In 'Hiddensee,' Gregory Maguire Gets Under The Shell Of 'The Nutcracker'\"},\n",
       " {'credit': 'Drew Angerer/Getty Images',\n",
       "  'date': '2018-01-15T20:59:00-05:00',\n",
       "  'image': 'https://media.npr.org/assets/img/2018/01/17/gettyimages-600966432_wide-4e4a6cb654de62a0ea5db0294a61d3540408976c.jpg?s=600',\n",
       "  'link': 'https://one.npr.org/?sharedMediaId=578169724:578212652',\n",
       "  'program': '',\n",
       "  'title': 'The Huddled Masses And The Myth Of America '},\n",
       " {'credit': 'H. Armstrong Roberts/ClassicStock/Getty Images',\n",
       "  'date': '2018-01-09T05:06:00-05:00',\n",
       "  'image': 'https://media.npr.org/assets/img/2018/01/11/gettyimages-563960915_wide-7c8bfed25fc50d2a9013923238ea792d5468a548.jpg?s=600',\n",
       "  'link': 'https://one.npr.org/?sharedMediaId=576669311:576669312',\n",
       "  'program': 'morning edition',\n",
       "  'title': 'Study: Great Recession Led To Fewer Deaths'},\n",
       " {'credit': 'Anadolu Agency/Getty Images',\n",
       "  'date': '2018-01-08T21:00:00-05:00',\n",
       "  'image': 'https://media.npr.org/assets/img/2018/01/05/gettyimages-624537028_wide-74c3620f2336cb0f647703da1726f039d5c3a2e8.jpg?s=600',\n",
       "  'link': 'https://one.npr.org/?sharedMediaId=575942968:576607656',\n",
       "  'program': '',\n",
       "  'title': 'American Democracy: \"Productive Conflict,\" Or A Dumpster Fire?'},\n",
       " {'credit': 'Courtesy of Maya Shankar',\n",
       "  'date': '2018-01-02T17:21:00-05:00',\n",
       "  'image': 'https://media.npr.org/assets/img/2017/12/21/maya-shankar_wide-b6fc1641216f9ad2552a249a0d72d59805dcb82a.jpg?s=600',\n",
       "  'link': 'https://one.npr.org/?sharedMediaId=572531792:575184606',\n",
       "  'program': '',\n",
       "  'title': 'Radio Replay: Fresh Starts '},\n",
       " {'credit': 'Otto Steininger/Getty Images/Ikon Images',\n",
       "  'date': '2018-01-01T21:01:00-05:00',\n",
       "  'image': 'https://media.npr.org/assets/img/2017/12/29/otto-steininger-getty_wide-de605316f618a74b08835355c06e21b2003c3656.jpg?s=600',\n",
       "  'link': 'https://one.npr.org/?sharedMediaId=574073721:574674830',\n",
       "  'program': '',\n",
       "  'title': 'Our Mental Space, Under Attack'},\n",
       " {'credit': 'Carolyn Kaster/AP',\n",
       "  'date': '2017-12-04T18:01:20-05:00',\n",
       "  'image': 'https://media.npr.org/assets/img/2017/12/04/ap_16324713715693_wide-e7ebb7aed564fda0a0143cbf2d3c02f0a9eb376a.jpg?s=600',\n",
       "  'link': 'https://one.npr.org/?sharedMediaId=568419731:568439679',\n",
       "  'program': '',\n",
       "  'title': 'Is Trump Waging A Hidden Campaign Against Mitt Romney? '},\n",
       " {'credit': 'Julian Dunn/Flickr',\n",
       "  'date': '2016-09-20T17:25:00-04:00',\n",
       "  'image': 'https://media.npr.org/assets/img/2016/09/20/6804357954_dbca071529_o-edit_wide-3127c15120c067e638d0cdc6922db8031a878f33.jpg?s=600',\n",
       "  'link': 'https://one.npr.org/?sharedMediaId=494733654:494765592',\n",
       "  'program': 'all things considered',\n",
       "  'title': \"'Atlas Obscura' Tour Of Manhattan Finds Hidden Wonders In A Well-Trodden Place\"}]"
      ]
     },
     "execution_count": 6,
     "metadata": {},
     "output_type": "execute_result"
    }
   ],
   "source": [
    "s = npr.Search('hidden')\n",
    "s.stories"
   ]
  },
  {
   "cell_type": "code",
   "execution_count": 7,
   "metadata": {
    "collapsed": false
   },
   "outputs": [
    {
     "name": "stdout",
     "output_type": "stream",
     "text": [
      "The Kojo Nnamdi Show: Politics Hour .response['items'][0]['links']['podcasts'][4]['title']\n"
     ]
    }
   ],
   "source": [
    "s = npr.Stations('wamu')\n",
    "s.find('The Kojo Nnamdi Show: Politics Hour')"
   ]
  },
  {
   "cell_type": "code",
   "execution_count": 8,
   "metadata": {
    "collapsed": false
   },
   "outputs": [
    {
     "data": {
      "text/plain": [
       "'https://hd1.wamu.org/wamu-1.aac'"
      ]
     },
     "execution_count": 8,
     "metadata": {},
     "output_type": "execute_result"
    }
   ],
   "source": [
    "# unwrap function\n",
    "station = npr.Station(305)\n",
    "station.unwrap(station.stream)"
   ]
  },
  {
   "cell_type": "code",
   "execution_count": 9,
   "metadata": {
    "collapsed": false
   },
   "outputs": [
    {
     "data": {
      "text/plain": [
       "'Craft Hard Cider Is On A Roll. How Ya Like Them Apples?'"
      ]
     },
     "execution_count": 9,
     "metadata": {},
     "output_type": "execute_result"
    }
   ],
   "source": [
    "story = npr.Story(565664321) # lookup story by id\n",
    "story.title"
   ]
  },
  {
   "cell_type": "code",
   "execution_count": 10,
   "metadata": {
    "collapsed": false
   },
   "outputs": [
    {
     "data": {
      "text/plain": [
       "{'id': '52',\n",
       " 'mp3': 'https://playerservices.streamtheworld.com/pls/KCNDHD2.pls',\n",
       " 'name': 'Prairie Public Broadcasting',\n",
       " 'stream': 'https://playerservices.streamtheworld.com/pls/KCNDHD2.pls'}"
      ]
     },
     "execution_count": 10,
     "metadata": {},
     "output_type": "execute_result"
    }
   ],
   "source": [
    "#find a station from a random (possibly invalid) orgid\n",
    "orgId = random.randrange(2, 500)\n",
    "station = npr.Station(orgId)\n",
    "station.a"
   ]
  },
  {
   "cell_type": "code",
   "execution_count": 11,
   "metadata": {
    "collapsed": false
   },
   "outputs": [
    {
     "name": "stdout",
     "output_type": "stream",
     "text": [
      "WBUR\n"
     ]
    }
   ],
   "source": [
    "#station roulette!\n",
    "stations = npr.Stations(42.3601, -71.0589)\n",
    "print(stations.name)"
   ]
  },
  {
   "cell_type": "code",
   "execution_count": 12,
   "metadata": {
    "collapsed": false
   },
   "outputs": [
    {
     "name": "stdout",
     "output_type": "stream",
     "text": [
      "https://static.wamu.org/streams/live/1/live_aac_ssl.pls\n",
      "https://www.weta.org/playlist/classical.m3u\n",
      "https://playerservices.streamtheworld.com/api/livestream-redirect/WYPR_HD1.mp3\n",
      "http://wtmd-ice.streamguys1.com/wtmd.m3u\n"
     ]
    }
   ],
   "source": [
    "stations = npr.Stations('22205')\n",
    "for station in stations.station:\n",
    "    if 'stream' in station:\n",
    "        print(station['stream'])"
   ]
  },
  {
   "cell_type": "code",
   "execution_count": 13,
   "metadata": {
    "collapsed": false
   },
   "outputs": [
    {
     "data": {
      "text/plain": [
       "\"The Hidden Brain helps curious people understand the world – and themselves. Using science and storytelling, Hidden Brain's host Shankar Vedantam reveals the unconscious patterns that drive human behavior, the biases that shape our choices, and the triggers that direct the course of our relationships.\""
      ]
     },
     "execution_count": 13,
     "metadata": {},
     "output_type": "execute_result"
    }
   ],
   "source": [
    "query = npr.Search('hidden')\n",
    "query.response['items'][0]['attributes']['description']"
   ]
  },
  {
   "cell_type": "code",
   "execution_count": 14,
   "metadata": {
    "collapsed": false
   },
   "outputs": [
    {
     "name": "stdout",
     "output_type": "stream",
     "text": [
      "{\n",
      "  \"attributes\": {\n",
      "    \"affiliations\": [\n",
      "      {\n",
      "        \"daysSinceLastListen\": 1185,\n",
      "        \"following\": false,\n",
      "        \"href\": \"https://api.npr.org/listening/v2/aggregation/510019/recommendations\",\n",
      "        \"id\": \"510019\",\n",
      "        \"notif_following\": {\n",
      "          \"default\": \"/topics/prod_followed_510019\",\n",
      "          \"ios\": \"/topics/prod_followed_IOS_510019\"\n",
      "        },\n",
      "        \"notif_rated\": {\n",
      "          \"default\": \"/topics/prod_rated_510019\",\n",
      "          \"ios\": \"/topics/prod_rated_IOS_510019\"\n",
      "        },\n",
      "        \"rating\": 0.5,\n",
      "        \"title\": \"All Songs Considered\"\n",
      "      },\n",
      "      {\n",
      "        \"daysSinceLastListen\": 1227,\n",
      "        \"following\": false,\n",
      "        \"href\": \"https://api.npr.org/listening/v2/aggregation/510282/recommendations\",\n",
      "        \"id\": \"510282\",\n",
      "        \"notif_following\": {\n",
      "          \"default\": \"/topics/prod_followed_510282\",\n",
      "          \"ios\": \"/topics/prod_followed_IOS_510282\"\n",
      "        },\n",
      "        \"notif_rated\": {\n",
      "          \"default\": \"/topics/prod_rated_510282\",\n",
      "          \"ios\": \"/topics/prod_rated_IOS_510282\"\n",
      "        },\n",
      "        \"rating\": 0.3,\n",
      "        \"title\": \"Pop Culture Happy Hour\"\n",
      "      },\n",
      "      {\n",
      "        \"daysSinceLastListen\": 1227,\n",
      "        \"following\": false,\n",
      "        \"href\": \"https://api.npr.org/listening/v2/aggregation/510289/recommendations\",\n",
      "        \"id\": \"510289\",\n",
      "        \"notif_following\": {\n",
      "          \"default\": \"/topics/prod_followed_510289\",\n",
      "          \"ios\": \"/topics/prod_followed_IOS_510289\"\n",
      "        },\n",
      "        \"notif_rated\": {\n",
      "          \"default\": \"/topics/prod_rated_510289\",\n",
      "          \"ios\": \"/topics/prod_rated_IOS_510289\"\n",
      "        },\n",
      "        \"rating\": 0.2,\n",
      "        \"title\": \"Planet Money\"\n",
      "      },\n",
      "      {\n",
      "        \"daysSinceLastListen\": 806,\n",
      "        \"following\": false,\n",
      "        \"href\": \"https://api.npr.org/listening/v2/aggregation/510298/recommendations\",\n",
      "        \"id\": \"510298\",\n",
      "        \"notif_following\": {\n",
      "          \"default\": \"/topics/prod_followed_510298\",\n",
      "          \"ios\": \"/topics/prod_followed_IOS_510298\"\n",
      "        },\n",
      "        \"notif_rated\": {\n",
      "          \"default\": \"/topics/prod_rated_510298\",\n",
      "          \"ios\": \"/topics/prod_rated_IOS_510298\"\n",
      "        },\n",
      "        \"rating\": 0.45,\n",
      "        \"title\": \"TED Radio Hour\"\n",
      "      },\n",
      "      {\n",
      "        \"daysSinceLastListen\": 1227,\n",
      "        \"following\": false,\n",
      "        \"href\": \"https://api.npr.org/listening/v2/aggregation/510303/recommendations\",\n",
      "        \"id\": \"510303\",\n",
      "        \"notif_following\": {\n",
      "          \"default\": \"/topics/prod_followed_510303\",\n",
      "          \"ios\": \"/topics/prod_followed_IOS_510303\"\n",
      "        },\n",
      "        \"notif_rated\": {\n",
      "          \"default\": \"/topics/prod_rated_510303\",\n",
      "          \"ios\": \"/topics/prod_rated_IOS_510303\"\n",
      "        },\n",
      "        \"rating\": 0.2,\n",
      "        \"title\": \"How To Do Everything\"\n",
      "      }\n",
      "    ],\n",
      "    \"cohort\": {\n",
      "      \"id\": \"F\",\n",
      "      \"name\": \"New baseline with Explore changes\",\n",
      "      \"public\": \"430\"\n",
      "    },\n",
      "    \"email\": \"dperry@npr.org\",\n",
      "    \"firstName\": \"Demian\",\n",
      "    \"id\": \"1780448\",\n",
      "    \"lastName\": \"Perry\",\n",
      "    \"organizations\": [\n",
      "      {\n",
      "        \"call\": \"WAMU\",\n",
      "        \"city\": \"Washington\",\n",
      "        \"displayName\": \"WAMU 88.5\",\n",
      "        \"donationUrl\": \"http://wamu.org/support/donate/?utm_source=NPROne&utm_medium=app-referral&utm_content=20180117&utm_campaign=NPRdonate\",\n",
      "        \"id\": \"305\",\n",
      "        \"logo\": \"https://media.npr.org/images/stations/nprone_logos/wamu_fm.png\",\n",
      "        \"membership\": {\n",
      "          \"memberType\": \"Non-Member\"\n",
      "        },\n",
      "        \"notif_org\": {\n",
      "          \"default\": \"/topics/prod_org_305\",\n",
      "          \"ios\": \"/topics/prod_org_IOS_305\"\n",
      "        },\n",
      "        \"smallLogo\": \"https://media.npr.org/images/stations/logos/wamu_fm.gif\"\n",
      "      }\n",
      "    ],\n",
      "    \"totalListeningTime\": \"22012\"\n",
      "  },\n",
      "  \"errors\": [],\n",
      "  \"href\": \"https://api.npr.org/identity/v2/user\",\n",
      "  \"items\": [],\n",
      "  \"links\": {\n",
      "    \"organizations\": [\n",
      "      {\n",
      "        \"content-type\": \"application/json\",\n",
      "        \"href\": \"https://api.npr.org/listening/v2/organizations/305/recommendations\"\n",
      "      }\n",
      "    ]\n",
      "  },\n",
      "  \"version\": \"1.0\"\n",
      "}\n"
     ]
    }
   ],
   "source": [
    "u = npr.User()\n",
    "u.pretty()"
   ]
  },
  {
   "cell_type": "code",
   "execution_count": 15,
   "metadata": {
    "collapsed": false
   },
   "outputs": [
    {
     "data": {
      "text/plain": [
       "'How An American Rose To The Upper Ranks Of ISIS'"
      ]
     },
     "execution_count": 15,
     "metadata": {},
     "output_type": "execute_result"
    }
   ],
   "source": [
    "player = npr.One()\n",
    "player.skip()\n",
    "player.skip()\n",
    "player.title"
   ]
  },
  {
   "cell_type": "code",
   "execution_count": 16,
   "metadata": {
    "collapsed": false
   },
   "outputs": [
    {
     "name": "stdout",
     "output_type": "stream",
     "text": [
      "station = npr.Station(305) # lookup station by orgId\n",
      "station.a # quick-reference of variables in namespace\n",
      "station.unwrap(station.stream) # some streams need to be unwrapped for use by FFMPEG\n",
      "station.pretty() # print raw api response\n",
      "s.find('88.5') # reverse lookup response keys by value\n",
      "\n",
      "stations = npr.Stations(38.9072,-77.0369) # npr.Stations('22205') | npr.Stations('WAMU')\n",
      "stations.station[0]['name'] # example of quick-reference across a list\n",
      "\n",
      "story = npr.Story(565664321) # lookup story by id\n",
      "story.title\n",
      "\n",
      "stories = npr.Stories() # lookup top stories\n",
      "stories.titles\n",
      "\n",
      "user = npr.User() # data on the logged in user\n",
      "\n",
      "player = npr.One() # create a NPR One player object\n",
      "player.skip() # player.complete()\n",
      "\n",
      "query = npr.Search('hidden')\n",
      "\n",
      "hiddenBrain = npr.Agg('510308') # the aggId is listed as the 'affiliation' in search\n",
      "hiddenBrain.pretty()\n",
      "\n",
      "explore = npr.Channels()\n",
      "explore.fetch(2) - fetch segments from third row of explore list\n",
      "explore.row.pretty()\n",
      "\n",
      "npr.clientauth()\n",
      "npr.auth()\n",
      "npr.deauth()\n",
      "npr.login()\n",
      "npr.logout()\n"
     ]
    }
   ],
   "source": [
    "print(npr.x)"
   ]
  },
  {
   "cell_type": "code",
   "execution_count": 19,
   "metadata": {
    "collapsed": false
   },
   "outputs": [
    {
     "name": "stdout",
     "output_type": "stream",
     "text": [
      "{\n",
      "  \"attributes\": {\n",
      "    \"affiliation\": \"565664321\",\n",
      "    \"affiliationMeta\": {\n",
      "      \"following\": false,\n",
      "      \"href\": \"https://api.npr.org/listening/v2/aggregation/565664321/recommendations\",\n",
      "      \"id\": \"565664321\",\n",
      "      \"notif_following\": {\n",
      "        \"default\": \"/topics/prod_followed_565664321\",\n",
      "        \"ios\": \"/topics/prod_followed_IOS_565664321\"\n",
      "      },\n",
      "      \"notif_rated\": {\n",
      "        \"default\": \"/topics/prod_rated_565664321\",\n",
      "        \"ios\": \"/topics/prod_rated_IOS_565664321\"\n",
      "      },\n",
      "      \"title\": \"Stories from NPR\"\n",
      "    },\n",
      "    \"description\": \"Assorted stories from NPR\",\n",
      "    \"provider\": \"NPR\",\n",
      "    \"station\": \"NPR\",\n",
      "    \"title\": \"Stories from NPR\",\n",
      "    \"type\": \"aggregation\"\n",
      "  },\n",
      "  \"errors\": [],\n",
      "  \"href\": \"https://api.npr.org/listening/v2/aggregation/565664321/recommendations\",\n",
      "  \"items\": [\n",
      "    {\n",
      "      \"attributes\": {\n",
      "        \"audioTitle\": \"Craft Hard Cider Is On A Roll. How Ya Like Them Apples?\",\n",
      "        \"date\": \"2017-12-02T08:00:00-05:00\",\n",
      "        \"description\": \"Hard cider is having a hot moment. Hotter still, if it's locally made and distributed. Over the past four years, the number of cideries across the country has doubled.\",\n",
      "        \"duration\": 178,\n",
      "        \"geofence\": {\n",
      "          \"countries\": [],\n",
      "          \"restricted\": false\n",
      "        },\n",
      "        \"primary\": true,\n",
      "        \"provider\": \"NPR\",\n",
      "        \"rating\": {\n",
      "          \"affiliations\": [],\n",
      "          \"channel\": \"npr\",\n",
      "          \"cohort\": \"F\",\n",
      "          \"duration\": 178,\n",
      "          \"elapsed\": 0,\n",
      "          \"mediaId\": \"565664321:568325925\",\n",
      "          \"origin\": \"LTNUPLINK\",\n",
      "          \"rating\": \"START\",\n",
      "          \"timestamp\": \"2018-01-17T20:01:16-0500\"\n",
      "        },\n",
      "        \"rationale\": \"\",\n",
      "        \"skippable\": true,\n",
      "        \"slug\": \"the salt\",\n",
      "        \"title\": \"Craft Hard Cider Is On A Roll. How Ya Like Them Apples?\",\n",
      "        \"type\": \"audio\",\n",
      "        \"uid\": \"565664321:568325925\"\n",
      "      },\n",
      "      \"errors\": [],\n",
      "      \"href\": \"https://api.npr.org/listening/v2/recommendations?channel=npr&sharedMediaId=565664321:568325925\",\n",
      "      \"items\": [],\n",
      "      \"links\": {\n",
      "        \"audio\": [\n",
      "          {\n",
      "            \"content-type\": \"audio/mp3\",\n",
      "            \"href\": \"https://ondemand.npr.org/anon.npr-mp3/npr/npr1alt/2017/12/20171204_npr1alt_cider_npr_one_corrected.mp3?orgId=1&topicId=1053&d=178&story=565664321&NPROne=true\"\n",
      "          },\n",
      "          {\n",
      "            \"content-type\": \"audio/aac\",\n",
      "            \"href\": \"https://ondemand.npr.org/npr-mp4/npr/npr1alt/2017/12/20171204_npr1alt_cider_npr_one_corrected.mp4?orgId=1&topicId=1053&d=178&story=565664321&NPROne=true\"\n",
      "          }\n",
      "        ],\n",
      "        \"image\": [\n",
      "          {\n",
      "            \"content-type\": \"image/jpeg\",\n",
      "            \"href\": \"https://media.npr.org/assets/img/2017/11/22/hard_cider-3-faacbc8ae4f0c7fda7c904e57d3e914c6b491bc4.jpg?s=600\",\n",
      "            \"image\": \"565993509\",\n",
      "            \"provider\": \"Adhiti Bandlamudi/NPR\",\n",
      "            \"rel\": \"standard\"\n",
      "          },\n",
      "          {\n",
      "            \"content-type\": \"image/jpeg\",\n",
      "            \"href\": \"https://media.npr.org/assets/img/2017/11/22/hard_cider-3_sq-c58519a543e8b440498e6e9be09502eed3b2fb07.jpg?s=600\",\n",
      "            \"image\": \"565993509\",\n",
      "            \"provider\": \"Adhiti Bandlamudi/NPR\",\n",
      "            \"rel\": \"square\"\n",
      "          },\n",
      "          {\n",
      "            \"content-type\": \"image/jpeg\",\n",
      "            \"href\": \"https://media.npr.org/assets/img/2017/11/22/hard_cider-3_wide-7eb1c146ac4e933f99e5559afdca69edd3093d3a.jpg?s=600\",\n",
      "            \"image\": \"565993509\",\n",
      "            \"provider\": \"Adhiti Bandlamudi/NPR\",\n",
      "            \"rel\": \"wide\"\n",
      "          },\n",
      "          {\n",
      "            \"content-type\": \"image/jpeg\",\n",
      "            \"href\": \"https://media.npr.org/assets/img/2017/11/22/hard_cider-3_custom-19468347fbe44b8e807df36686e54ab0d6ee2f22.jpg?s=600\",\n",
      "            \"image\": \"565993509\",\n",
      "            \"provider\": \"Adhiti Bandlamudi/NPR\",\n",
      "            \"rel\": \"enlargement\"\n",
      "          },\n",
      "          {\n",
      "            \"content-type\": \"image/jpeg\",\n",
      "            \"href\": \"https://media.npr.org/assets/img/2017/11/22/hard_cider-3_custom-19468347fbe44b8e807df36686e54ab0d6ee2f22.jpg?s=600\",\n",
      "            \"image\": \"565993509\",\n",
      "            \"provider\": \"Adhiti Bandlamudi/NPR\",\n",
      "            \"rel\": \"custom\"\n",
      "          },\n",
      "          {\n",
      "            \"content-type\": \"image/jpeg\",\n",
      "            \"href\": \"https://media.npr.org/assets/img/2017/11/22/hard_cider-2_vert-70d44d5a75d6cbeca81d39ff873a3585268bcf79.jpg?s=600\",\n",
      "            \"image\": \"565994432\",\n",
      "            \"provider\": \"Adhiti Bandlamudi/NPR\",\n",
      "            \"rel\": \"enlargement\"\n",
      "          },\n",
      "          {\n",
      "            \"content-type\": \"image/jpeg\",\n",
      "            \"href\": \"https://media.npr.org/assets/img/2017/11/22/hard_cider-2_vert-70d44d5a75d6cbeca81d39ff873a3585268bcf79.jpg?s=600\",\n",
      "            \"image\": \"565994432\",\n",
      "            \"provider\": \"Adhiti Bandlamudi/NPR\",\n",
      "            \"rel\": \"vertical\"\n",
      "          },\n",
      "          {\n",
      "            \"content-type\": \"image/jpeg\",\n",
      "            \"href\": \"https://media.npr.org/assets/img/2017/11/22/hard_cider-1-d25da36cdbdf19d7581aded60b6978ba000753f9.jpg?s=600\",\n",
      "            \"image\": \"565994125\",\n",
      "            \"provider\": \"Adhiti Bandlamudi/NPR\",\n",
      "            \"rel\": \"standard\"\n",
      "          },\n",
      "          {\n",
      "            \"content-type\": \"image/jpeg\",\n",
      "            \"href\": \"https://media.npr.org/assets/img/2017/11/22/hard_cider-1-d25da36cdbdf19d7581aded60b6978ba000753f9.jpg?s=600\",\n",
      "            \"image\": \"565994125\",\n",
      "            \"provider\": \"Adhiti Bandlamudi/NPR\",\n",
      "            \"rel\": \"enlargement\"\n",
      "          }\n",
      "        ],\n",
      "        \"onramps\": [\n",
      "          {\n",
      "            \"content-type\": \"text/html\",\n",
      "            \"href\": \"http://one.npr.org/i/565664321:568325925\"\n",
      "          }\n",
      "        ],\n",
      "        \"recommendations\": [\n",
      "          {\n",
      "            \"content-type\": \"application/json\",\n",
      "            \"href\": \"https://api.npr.org/listening/v2/ratings?recommend=true&channel=npr&prevStories=1&queued=%5B%5D&flow=0\"\n",
      "          }\n",
      "        ],\n",
      "        \"web\": [\n",
      "          {\n",
      "            \"content-type\": \"text/html\",\n",
      "            \"href\": \"https://www.npr.org/sections/thesalt/2017/12/02/565664321/craft-hard-cider-is-on-a-roll-how-ya-like-them-apples\"\n",
      "          },\n",
      "          {\n",
      "            \"content-type\": \"application/xml\",\n",
      "            \"href\": \"http://api.npr.org/query?id=565664321&apiKey=MDI5NDI3MDQwMDE0ODMwMzg1MDUwN2U2OA000\"\n",
      "          },\n",
      "          {\n",
      "            \"content-type\": \"text/html\",\n",
      "            \"href\": \"http://n.pr/2mT7UjF\"\n",
      "          },\n",
      "          {\n",
      "            \"content-type\": \"text/html\",\n",
      "            \"href\": \"https://www.npr.org/player/embed/565664321/568325925\",\n",
      "            \"rel\": \"embed\"\n",
      "          }\n",
      "        ]\n",
      "      },\n",
      "      \"version\": \"1.0\"\n",
      "    }\n",
      "  ],\n",
      "  \"links\": {\n",
      "    \"more\": [\n",
      "      {\n",
      "        \"content-type\": \"application/json\",\n",
      "        \"href\": \"https://api.npr.org/listening/v2/aggregation/565664321/recommendations?startNum=11&origin=LTNUPLINK\"\n",
      "      }\n",
      "    ],\n",
      "    \"web\": [\n",
      "      {\n",
      "        \"content-type\": \"application/xml\",\n",
      "        \"href\": \"http://api.npr.org/query?id=565664321&apiKey=MDI5NDI3MDQwMDE0ODMwMzg1MDUwN2U2OA000\"\n",
      "      },\n",
      "      {\n",
      "        \"content-type\": \"text/html\",\n",
      "        \"href\": \"https://www.npr.org/sections/thesalt/2017/12/02/565664321/craft-hard-cider-is-on-a-roll-how-ya-like-them-apples\"\n",
      "      }\n",
      "    ]\n",
      "  },\n",
      "  \"version\": \"1.0\"\n",
      "}\n"
     ]
    }
   ],
   "source": [
    "ast = npr.Agg('565664321')\n",
    "ast.pretty()"
   ]
  },
  {
   "cell_type": "code",
   "execution_count": null,
   "metadata": {
    "collapsed": true
   },
   "outputs": [],
   "source": []
  }
 ],
 "metadata": {
  "kernelspec": {
   "display_name": "Python 3",
   "language": "python",
   "name": "python3"
  },
  "language_info": {
   "codemirror_mode": {
    "name": "ipython",
    "version": 3
   },
   "file_extension": ".py",
   "mimetype": "text/x-python",
   "name": "python",
   "nbconvert_exporter": "python",
   "pygments_lexer": "ipython3",
   "version": "3.6.0"
  }
 },
 "nbformat": 4,
 "nbformat_minor": 2
}
