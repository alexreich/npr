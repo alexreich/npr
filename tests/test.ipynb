{
 "cells": [
  {
   "cell_type": "code",
   "execution_count": 1,
   "metadata": {
    "collapsed": false
   },
   "outputs": [],
   "source": [
    "from unittest import TestCase\n",
    "import random\n",
    "import importlib.util\n",
    "spec = importlib.util.spec_from_file_location(\"npr\", \"../npr/__init__.py\")\n",
    "npr = importlib.util.module_from_spec(spec)\n",
    "spec.loader.exec_module(npr)"
   ]
  },
  {
   "cell_type": "code",
   "execution_count": null,
   "metadata": {
    "collapsed": true
   },
   "outputs": [],
   "source": []
  },
  {
   "cell_type": "code",
   "execution_count": 2,
   "metadata": {
    "collapsed": false
   },
   "outputs": [
    {
     "name": "stdout",
     "output_type": "stream",
     "text": [
      "Go to https://npr.org/device login and enter:\n",
      "HC2CCD\n",
      "User logged in and stored locally\n"
     ]
    }
   ],
   "source": [
    "npr.login()"
   ]
  },
  {
   "cell_type": "code",
   "execution_count": 6,
   "metadata": {
    "collapsed": false
   },
   "outputs": [
    {
     "name": "stdout",
     "output_type": "stream",
     "text": [
      "{\n",
      "  \"attributes\": {\n",
      "    \"brand\": {\n",
      "      \"band\": \"FM\",\n",
      "      \"call\": \"KCLU\",\n",
      "      \"frequency\": \"88.3\",\n",
      "      \"marketCity\": \"Thousand Oaks\",\n",
      "      \"marketState\": \"CA\",\n",
      "      \"name\": \"KCLU\",\n",
      "      \"tagline\": \"NPR and Local News\"\n",
      "    },\n",
      "    \"eligibility\": {\n",
      "      \"format\": \"Public Radio\",\n",
      "      \"musicOnly\": false,\n",
      "      \"nprOne\": true,\n",
      "      \"status\": \"1\"\n",
      "    },\n",
      "    \"guid\": \"4fcf700e0aa54f94a545341e4f6a695a\",\n",
      "    \"network\": {\n",
      "      \"currentOrgId\": \"45\",\n",
      "      \"tier1\": {\n",
      "        \"id\": \"45\",\n",
      "        \"name\": \"KCLU-FM\",\n",
      "        \"status\": \"1\",\n",
      "        \"tier2\": [\n",
      "          {\n",
      "            \"id\": \"1081\",\n",
      "            \"name\": \"KCLU-AM\",\n",
      "            \"usesInheritance\": true\n",
      "          },\n",
      "          {\n",
      "            \"id\": \"1385\",\n",
      "            \"name\": \"KCLM-FM\",\n",
      "            \"usesInheritance\": true\n",
      "          }\n",
      "        ],\n",
      "        \"usesInheritance\": false\n",
      "      },\n",
      "      \"usesInheritance\": false\n",
      "    },\n",
      "    \"orgId\": \"45\"\n",
      "  },\n",
      "  \"errors\": [],\n",
      "  \"href\": \"https://api.npr.org/stationfinder/v3/stations/45\",\n",
      "  \"items\": [],\n",
      "  \"links\": {\n",
      "    \"brand\": [\n",
      "      {\n",
      "        \"content-type\": \"text/html\",\n",
      "        \"href\": \"http://www.kclu.org/\",\n",
      "        \"rel\": \"homepage\"\n",
      "      },\n",
      "      {\n",
      "        \"content-type\": \"image/png\",\n",
      "        \"href\": \"https://media.npr.org/images/stations/nprone_logos/kclu_fm.png\",\n",
      "        \"rel\": \"logo\"\n",
      "      },\n",
      "      {\n",
      "        \"content-type\": \"image/gif\",\n",
      "        \"href\": \"https://media.npr.org/images/stations/logos/kclu_fm.gif\",\n",
      "        \"rel\": \"small-logo\"\n",
      "      },\n",
      "      {\n",
      "        \"content-type\": \"audio/aac\",\n",
      "        \"href\": \"https://ondemand.npr.org/npr-mp4/stationid/45.mp4\",\n",
      "        \"rel\": \"hello-id-audio\"\n",
      "      }\n",
      "    ],\n",
      "    \"donation\": [\n",
      "      {\n",
      "        \"guid\": \"0a9018b3acfa437aa73274c92c45623a\",\n",
      "        \"href\": \"https://donate.nprstations.org/kclu/\",\n",
      "        \"title\": \"Support\",\n",
      "        \"typeId\": \"4\",\n",
      "        \"typeName\": \"Pledge Page\"\n",
      "      },\n",
      "      {\n",
      "        \"href\": \"https://ondemand.npr.org/npr-mp4/thankyou/45.mp4\",\n",
      "        \"typeId\": \"29\",\n",
      "        \"typeName\": \"Station Thank You Audio\"\n",
      "      }\n",
      "    ],\n",
      "    \"streams\": [\n",
      "      {\n",
      "        \"guid\": \"4f250ad0ef8e45078671dfb8fbf27907\",\n",
      "        \"href\": \"https://kclustream.callutheran.edu:8090/kclump3\",\n",
      "        \"isPrimaryStream\": false,\n",
      "        \"title\": \"KCLU Stream\",\n",
      "        \"typeId\": \"10\",\n",
      "        \"typeName\": \"Audio MP3 Stream\"\n",
      "      }\n",
      "    ]\n",
      "  },\n",
      "  \"version\": \"1.0\"\n",
      "}\n"
     ]
    }
   ],
   "source": [
    "orgId = random.randrange(2, 500)\n",
    "station = npr.Station(orgId)\n",
    "station.pretty()"
   ]
  },
  {
   "cell_type": "code",
   "execution_count": null,
   "metadata": {
    "collapsed": true
   },
   "outputs": [],
   "source": []
  }
 ],
 "metadata": {
  "kernelspec": {
   "display_name": "Python 3",
   "language": "python",
   "name": "python3"
  },
  "language_info": {
   "codemirror_mode": {
    "name": "ipython",
    "version": 3
   },
   "file_extension": ".py",
   "mimetype": "text/x-python",
   "name": "python",
   "nbconvert_exporter": "python",
   "pygments_lexer": "ipython3",
   "version": "3.6.0"
  }
 },
 "nbformat": 4,
 "nbformat_minor": 2
}
