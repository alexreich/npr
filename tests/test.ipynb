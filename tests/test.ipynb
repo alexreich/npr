{
 "cells": [
  {
   "cell_type": "code",
   "execution_count": 110,
   "metadata": {
    "collapsed": false
   },
   "outputs": [],
   "source": [
    "from unittest import TestCase\n",
    "import random\n",
    "import importlib.util\n",
    "spec = importlib.util.spec_from_file_location(\"npr\", \"../npr/__init__.py\")\n",
    "npr = importlib.util.module_from_spec(spec)\n",
    "spec.loader.exec_module(npr)"
   ]
  },
  {
   "cell_type": "code",
   "execution_count": 104,
   "metadata": {
    "collapsed": false
   },
   "outputs": [
    {
     "data": {
      "text/plain": [
       "'Craft Hard Cider Is On A Roll. How Ya Like Them Apples?'"
      ]
     },
     "execution_count": 104,
     "metadata": {},
     "output_type": "execute_result"
    }
   ],
   "source": [
    "story = npr.Story(565664321) # lookup story by id\n",
    "story.title"
   ]
  },
  {
   "cell_type": "code",
   "execution_count": 112,
   "metadata": {
    "collapsed": false
   },
   "outputs": [
    {
     "data": {
      "text/plain": [
       "['Congress Scrambles To Keep Government Running Before Friday Deadline',\n",
       " \"'A Hideous Milestone': Cholera Cases In Yemen Pass 1 Million\",\n",
       " \"14 Injured In Australia As SUV Mows Down Pedestrians In 'Deliberate Act'\",\n",
       " 'Apple Says It Slows Older iPhones To Save Their Battery Life',\n",
       " 'Fire In South Korean Commercial Building Kills At Least 29',\n",
       " 'Life Expectancy Drops Again As Opioid Deaths Surge In U.S.',\n",
       " 'Now That The GOP Tax Bill Is Approved, The IRS Gets Busy',\n",
       " 'Australian Submarine That Vanished In WWI Located Off Papua New Guinea',\n",
       " 'Judge Declares Mistrial In Conspiracy Case Against Bundys',\n",
       " 'Police Reportedly Clear Venus Williams Of Blame In Fatal Car Crash',\n",
       " 'English Car Park Where Remains Of Richard III Were Found Declared A Monument',\n",
       " \"What Does 'Containing A Fire' Really Mean?\",\n",
       " \"Rolling Stone's Parent Company Sells Controlling Stake\",\n",
       " 'U.K. Campaign Against Sexual Assault, Discrimination The Latest In A Growing Movement',\n",
       " 'Arctic National Wildlife Refuge Battle Ends, But Drilling Not A Given',\n",
       " 'A Prescription To Reduce Waste In Health Care Spending',\n",
       " 'Even As Regulations Weaken, For-Profit Colleges Struggle To Stay Afloat',\n",
       " 'U.S. And World Governments Call For Release Of Detained Journalists In Myanmar',\n",
       " 'North Korean Soldier Crosses DMZ, Defects To South',\n",
       " \"U.S. 'Will Be Taking Names' Of U.N. Votes On Jerusalem Resolution, Haley Tweets\",\n",
       " \"9 Favorite New Podcasts Of 2017 (That Aren't 'S-Town')\",\n",
       " 'Why Doctors In Uganda Are Teaching Brain Surgery To U.S. Doctors',\n",
       " 'Judges Erase 1-Vote Lead In Virginia, Throwing State Politics Into Disarray',\n",
       " 'Latino Identity Fades As Immigrant Ties Weaken, Study Finds',\n",
       " \"Reggie 'Combat Jack' Ossé, Hip-Hop Journalist And Podcaster, Dies At 48\",\n",
       " 'WATCH: What Happens When 2 Neutron Stars Collide']"
      ]
     },
     "execution_count": 112,
     "metadata": {},
     "output_type": "execute_result"
    }
   ],
   "source": [
    "stories = npr.Stories() # lookup top stories\n",
    "stories.titles"
   ]
  },
  {
   "cell_type": "code",
   "execution_count": 89,
   "metadata": {
    "collapsed": false
   },
   "outputs": [
    {
     "data": {
      "text/plain": [
       "{'id': '187',\n",
       " 'mp3': 'http://jpr.streamguys.org:80/jpr-rhythm',\n",
       " 'name': 'Jefferson Public Radio',\n",
       " 'stream': 'http://jpr.streamguys.org:80/jpr-rhythm'}"
      ]
     },
     "execution_count": 89,
     "metadata": {},
     "output_type": "execute_result"
    }
   ],
   "source": [
    "#find a station from a random (possibly invalid) orgid\n",
    "orgId = random.randrange(2, 500)\n",
    "station = npr.Station(orgId)\n",
    "station.a"
   ]
  },
  {
   "cell_type": "code",
   "execution_count": 90,
   "metadata": {
    "collapsed": false
   },
   "outputs": [
    {
     "name": "stdout",
     "output_type": "stream",
     "text": [
      "WGBH Radio\n"
     ]
    }
   ],
   "source": [
    "#station roulette!\n",
    "stations = npr.Stations(42.3601, -71.0589)\n",
    "print(stations.name)"
   ]
  },
  {
   "cell_type": "code",
   "execution_count": 91,
   "metadata": {
    "collapsed": false
   },
   "outputs": [
    {
     "name": "stdout",
     "output_type": "stream",
     "text": [
      "https://hd1.wamu.org/wamu-1.aac\n",
      "https://weta.org/sites/default/files/preroll/LILI_WPA_10345_Oct2017_0.mp3\n",
      "https://playerservices.streamtheworld.com/api/livestream-redirect/WYPR_HD1.mp3\n",
      "http://wtmd-ice.streamguys1.com:80/wtmd\n"
     ]
    }
   ],
   "source": [
    "stations = npr.Stations('22205')\n",
    "for station in stations.station:\n",
    "    if 'stream' in station:\n",
    "        print(station['stream'])"
   ]
  },
  {
   "cell_type": "code",
   "execution_count": 92,
   "metadata": {
    "collapsed": false
   },
   "outputs": [
    {
     "data": {
      "text/plain": [
       "\"The Hidden Brain helps curious people understand the world – and themselves. Using science and storytelling, Hidden Brain's host Shankar Vedantam reveals the unconscious patterns that drive human behavior, the biases that shape our choices, and the triggers that direct the course of our relationships.\""
      ]
     },
     "execution_count": 92,
     "metadata": {},
     "output_type": "execute_result"
    }
   ],
   "source": [
    "query = npr.Search('hidden')\n",
    "query.response['items'][0]['attributes']['description']"
   ]
  },
  {
   "cell_type": "code",
   "execution_count": 93,
   "metadata": {
    "collapsed": false
   },
   "outputs": [
    {
     "data": {
      "text/plain": [
       "'Demian Perry'"
      ]
     },
     "execution_count": 93,
     "metadata": {},
     "output_type": "execute_result"
    }
   ],
   "source": [
    "u = npr.User()\n",
    "u.name"
   ]
  },
  {
   "cell_type": "code",
   "execution_count": 94,
   "metadata": {
    "collapsed": false
   },
   "outputs": [
    {
     "data": {
      "text/plain": [
       "'Judge Declares Mistrial In Conspiracy Case Against Bundys'"
      ]
     },
     "execution_count": 94,
     "metadata": {},
     "output_type": "execute_result"
    }
   ],
   "source": [
    "player = npr.One()\n",
    "player.skip()\n",
    "player.skip()\n",
    "player.title"
   ]
  },
  {
   "cell_type": "code",
   "execution_count": 113,
   "metadata": {
    "collapsed": false
   },
   "outputs": [
    {
     "name": "stdout",
     "output_type": "stream",
     "text": [
      "station = npr.Station(305) # lookup station by orgId\n",
      "station.a # quick-reference of variables in namespace\n",
      "station.pretty() # print raw api response\n",
      "s.find('88.5') # reverse lookup response keys by value\n",
      "\n",
      "stations = npr.Stations(38.9072,-77.0369) # npr.Stations('22205') | npr.Stations('WAMU')\n",
      "stations.station[0]['name'] # example of quick-reference across a list\n",
      "\n",
      "story = npr.Story(565664321) # lookup story by id\n",
      "story.title\n",
      "\n",
      "stories = npr.Stories() # lookup top stories\n",
      "stories.titles\n",
      "\n",
      "user = npr.User() # data on the logged in user\n",
      "\n",
      "player = npr.One() # create a NPR One player object\n",
      "player.skip() # player.complete()\n",
      "\n",
      "query = npr.Search('hidden')\n",
      "\n",
      "hiddenBrain = npr.Agg('510308') # the aggId is listed as the 'affiliation' in search\n",
      "hiddenBrain.pretty()\n",
      "\n",
      "explore = npr.Channels()\n",
      "explore.fetch(2) - fetch segments from third row of explore list\n",
      "explore.row.pretty()\n",
      "\n",
      "npr.clientauth()\n",
      "npr.auth()\n",
      "npr.deauth()\n",
      "npr.login()\n",
      "npr.logout()\n"
     ]
    }
   ],
   "source": [
    "npr.docs()"
   ]
  },
  {
   "cell_type": "code",
   "execution_count": 3,
   "metadata": {
    "collapsed": false
   },
   "outputs": [
    {
     "name": "stdout",
     "output_type": "stream",
     "text": [
      "Go to https://npr.org/device login and enter:\n",
      "XBQFFT\n",
      "No token.  npr.login() will fetch it for you.\n",
      "User logged in and stored locally\n"
     ]
    }
   ],
   "source": [
    "npr.login()"
   ]
  }
 ],
 "metadata": {
  "kernelspec": {
   "display_name": "Python 3",
   "language": "python",
   "name": "python3"
  },
  "language_info": {
   "codemirror_mode": {
    "name": "ipython",
    "version": 3
   },
   "file_extension": ".py",
   "mimetype": "text/x-python",
   "name": "python",
   "nbconvert_exporter": "python",
   "pygments_lexer": "ipython3",
   "version": "3.6.0"
  }
 },
 "nbformat": 4,
 "nbformat_minor": 2
}
